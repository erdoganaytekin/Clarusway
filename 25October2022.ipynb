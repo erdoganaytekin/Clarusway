{
 "cells": [
  {
   "cell_type": "markdown",
   "id": "19abc10b",
   "metadata": {},
   "source": [
    "    # Slack Exercises"
   ]
  },
  {
   "cell_type": "code",
   "execution_count": 13,
   "id": "38a0fd17",
   "metadata": {
    "scrolled": true
   },
   "outputs": [
    {
     "data": {
      "text/plain": [
       "[[14, 15, 16, 17], [10, 11, 12, 13], [6, 7, 8, 9], [1, 2, 3, 4, 5]]"
      ]
     },
     "execution_count": 13,
     "metadata": {},
     "output_type": "execute_result"
    }
   ],
   "source": [
    "x = [[1,2,3,4,5],[6,7,8,9],[10,11,12,13],[14,15,16,17]]\n",
    "x.reverse()\n",
    "x[::1]\n",
    "x"
   ]
  },
  {
   "cell_type": "code",
   "execution_count": 11,
   "id": "c60ed432",
   "metadata": {},
   "outputs": [],
   "source": [
    "y = x[0][::-1], x[1][::-1], x[2][::-1], x[3][::-1]"
   ]
  },
  {
   "cell_type": "code",
   "execution_count": 12,
   "id": "fe7b0e31",
   "metadata": {},
   "outputs": [
    {
     "name": "stdout",
     "output_type": "stream",
     "text": [
      "[[17, 16, 15, 14], [13, 12, 11, 10], [9, 8, 7, 6], [5, 4, 3, 2, 1]]\n"
     ]
    }
   ],
   "source": [
    "print(list(y))"
   ]
  },
  {
   "cell_type": "code",
   "execution_count": 15,
   "id": "48ede58c",
   "metadata": {},
   "outputs": [
    {
     "data": {
      "text/plain": [
       "[[1, 2, 3, 4, 5], [6, 7, 8, 9], [10, 11, 12, 13], [14, 15, 16, 17]]"
      ]
     },
     "execution_count": 15,
     "metadata": {},
     "output_type": "execute_result"
    }
   ],
   "source": [
    "x = [[1,2,3,4,5],[6,7,8,9],[10,11,12,13],[14,15,16,17]]\n",
    "x[::1]\n",
    "x"
   ]
  },
  {
   "cell_type": "code",
   "execution_count": 28,
   "id": "05b771f8",
   "metadata": {},
   "outputs": [
    {
     "name": "stdout",
     "output_type": "stream",
     "text": [
      "Password: 4444\n"
     ]
    },
    {
     "data": {
      "text/plain": [
       "[4444, 11234, 56789, 1234]"
      ]
     },
     "execution_count": 28,
     "metadata": {},
     "output_type": "execute_result"
    }
   ],
   "source": [
    "password = [1234, 56789, 11234]\n",
    "\n",
    "f = int(input(\"Password: \"))\n",
    "password.append(f)\n",
    "password[::-1]"
   ]
  },
  {
   "cell_type": "code",
   "execution_count": 31,
   "id": "ab147cde",
   "metadata": {},
   "outputs": [
    {
     "name": "stdout",
     "output_type": "stream",
     "text": [
      "Password: 43535\n",
      "(43535, 1234, 56789, 11234)\n"
     ]
    }
   ],
   "source": [
    "password = [1234, 56789, 11234]\n",
    "\n",
    "f = int(input(\"Password: \"))\n",
    "password.insert(0,f)\n",
    "print(tuple(password))"
   ]
  },
  {
   "cell_type": "code",
   "execution_count": 46,
   "id": "d2ce37b9",
   "metadata": {
    "scrolled": false
   },
   "outputs": [
    {
     "name": "stdout",
     "output_type": "stream",
     "text": [
      "Enter a food: banana\n",
      "Enter a food: orange\n",
      "Enter a food: apple\n",
      "Enter a food: cherry\n",
      "Which you want to get rid of and remove it from the list: 3\n"
     ]
    },
    {
     "data": {
      "text/plain": [
       "{1: 'banana', 2: 'orange', 4: 'cherry'}"
      ]
     },
     "execution_count": 46,
     "metadata": {},
     "output_type": "execute_result"
    }
   ],
   "source": [
    "a = input(\"Enter a food: \")\n",
    "b = input(\"Enter a food: \")\n",
    "c = input(\"Enter a food: \")\n",
    "d = input(\"Enter a food: \")\n",
    "my_dict = {1:a, 2:b, 3:c, 4:d}\n",
    "my_dict\n",
    "s = int(input(\"Which you want to get rid of and remove it from the list: \"))\n",
    "del my_dict[s]\n",
    "my_dict"
   ]
  },
  {
   "cell_type": "code",
   "execution_count": 87,
   "id": "368e1e3e",
   "metadata": {
    "scrolled": true
   },
   "outputs": [
    {
     "name": "stdout",
     "output_type": "stream",
     "text": [
      "Enter a number: 2\n",
      "[5, 6, 1, 2, 3, 4]\n"
     ]
    }
   ],
   "source": [
    "liste = [1,2,3,4,5,6]\n",
    "\n",
    "n = int(input(\"Enter a number: \"))\n",
    "\n",
    "print(liste[len(liste)- n :len(liste)] + liste[0:len(liste) - n])"
   ]
  },
  {
   "cell_type": "code",
   "execution_count": 135,
   "id": "e57e2fbd",
   "metadata": {},
   "outputs": [
    {
     "data": {
      "text/plain": [
       "'var dersi python akşam yarın'"
      ]
     },
     "execution_count": 135,
     "metadata": {},
     "output_type": "execute_result"
    }
   ],
   "source": [
    "string = \"yarın.akşam.python.dersi.var\"\n",
    "\n",
    "newstring = string.split(\".\")\n",
    "newstring.reverse()\n",
    "\n",
    "newstring1 = \" \".join(newstring)\n",
    "newstring1"
   ]
  },
  {
   "cell_type": "code",
   "execution_count": 108,
   "id": "729d96ac",
   "metadata": {},
   "outputs": [
    {
     "data": {
      "text/plain": [
       "['var', 'dersi', 'python', 'akşam', 'yarın']"
      ]
     },
     "execution_count": 108,
     "metadata": {},
     "output_type": "execute_result"
    }
   ],
   "source": [
    "string = \"yarın.akşam.python.dersi.var\"\n",
    "\n",
    "newstring = string.split(\".\")[::-1]\n",
    "\n",
    "newstring"
   ]
  },
  {
   "cell_type": "code",
   "execution_count": 112,
   "id": "6bafe1b3",
   "metadata": {},
   "outputs": [
    {
     "data": {
      "text/plain": [
       "'var dersi python akşam yarın'"
      ]
     },
     "execution_count": 112,
     "metadata": {},
     "output_type": "execute_result"
    }
   ],
   "source": [
    "n = \" \".join(newstring)\n",
    "n"
   ]
  },
  {
   "cell_type": "code",
   "execution_count": 114,
   "id": "a596e9b7",
   "metadata": {},
   "outputs": [
    {
     "data": {
      "text/plain": [
       "'54321'"
      ]
     },
     "execution_count": 114,
     "metadata": {},
     "output_type": "execute_result"
    }
   ],
   "source": [
    ">>> s = \"12345\"\n",
    ">>> L = list(s)\n",
    ">>> L\n",
    "['1', '2', '3', '4', '5']\n",
    ">>> L.reverse()\n",
    ">>> L\n",
    "['5', '4', '3', '2', '1']\n",
    ">>> ''.join(L)\n",
    "'54321'"
   ]
  }
 ],
 "metadata": {
  "kernelspec": {
   "display_name": "Python 3 (ipykernel)",
   "language": "python",
   "name": "python3"
  },
  "language_info": {
   "codemirror_mode": {
    "name": "ipython",
    "version": 3
   },
   "file_extension": ".py",
   "mimetype": "text/x-python",
   "name": "python",
   "nbconvert_exporter": "python",
   "pygments_lexer": "ipython3",
   "version": "3.9.12"
  }
 },
 "nbformat": 4,
 "nbformat_minor": 5
}
