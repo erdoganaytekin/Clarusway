{ 
 "cells": [
  {
   "cell_type": "code",
   "execution_count": 10,
   "id": "865628a2",
   "metadata": {},
   "outputs": [
    {
     "data": {
      "text/plain": [
       "1605.7814764784307"
      ]
     },
     "execution_count": 10,
     "metadata": {},
     "output_type": "execute_result"
    }
   ],
   "source": [
    "para1 = 1000\n",
    "para1*(1.07)**7"
   ]
  },
  {
   "cell_type": "code",
   "execution_count": 1,
   "id": "30bb663a",
   "metadata": {},
   "outputs": [],
   "source": [
    "para = 1000"
   ]
  },
  {
   "cell_type": "code",
   "execution_count": 2,
   "id": "8ea61299",
   "metadata": {},
   "outputs": [
    {
     "data": {
      "text/plain": [
       "1070.0"
      ]
     },
     "execution_count": 2,
     "metadata": {},
     "output_type": "execute_result"
    }
   ],
   "source": [
    "para = para + para*0.07 # pazartesi gunu sonundaki para miktari\n",
    "para"
   ]
  },
  {
   "cell_type": "code",
   "execution_count": 4,
   "id": "6369e413",
   "metadata": {},
   "outputs": [
    {
     "data": {
      "text/plain": [
       "1144.9"
      ]
     },
     "execution_count": 4,
     "metadata": {},
     "output_type": "execute_result"
    }
   ],
   "source": [
    "para = para + para*0.07 # sali gunu sonundaki para miktari\n",
    "para"
   ]
  },
  {
   "cell_type": "code",
   "execution_count": 5,
   "id": "1d6d1cdf",
   "metadata": {},
   "outputs": [
    {
     "data": {
      "text/plain": [
       "1225.0430000000001"
      ]
     },
     "execution_count": 5,
     "metadata": {},
     "output_type": "execute_result"
    }
   ],
   "source": [
    "para = para + para*0.07 # carsamba gunu sonundaki para miktari\n",
    "para"
   ]
  },
  {
   "cell_type": "code",
   "execution_count": 6,
   "id": "43dade47",
   "metadata": {},
   "outputs": [
    {
     "data": {
      "text/plain": [
       "1310.79601"
      ]
     },
     "execution_count": 6,
     "metadata": {},
     "output_type": "execute_result"
    }
   ],
   "source": [
    "para = para + para*0.07 # persembe gunu sonundaki para miktari\n",
    "para"
   ]
  },
  {
   "cell_type": "code",
   "execution_count": 7,
   "id": "e56d2728",
   "metadata": {},
   "outputs": [
    {
     "data": {
      "text/plain": [
       "1402.5517307"
      ]
     },
     "execution_count": 7,
     "metadata": {},
     "output_type": "execute_result"
    }
   ],
   "source": [
    "para = para + para*0.07 # cuma gunu sonundaki para miktari\n",
    "para"
   ]
  },
  {
   "cell_type": "code",
   "execution_count": 8,
   "id": "1c057d9d",
   "metadata": {},
   "outputs": [
    {
     "data": {
      "text/plain": [
       "1500.730351849"
      ]
     },
     "execution_count": 8,
     "metadata": {},
     "output_type": "execute_result"
    }
   ],
   "source": [
    "para = para + para*0.07 # cumartesi gunu sonundaki para miktari\n",
    "para"
   ]
  },
  {
   "cell_type": "code",
   "execution_count": 9,
   "id": "ac70fcee",
   "metadata": {},
   "outputs": [
    {
     "data": {
      "text/plain": [
       "1605.78147647843"
      ]
     },
     "execution_count": 9,
     "metadata": {},
     "output_type": "execute_result"
    }
   ],
   "source": [
    "para = para + para*0.07 # pazar gunu sonundaki para miktari\n",
    "para"
   ]
  },
  {
   "cell_type": "code",
   "execution_count": null,
   "id": "fb082e24",
   "metadata": {},
   "outputs": [],
   "source": []
  },
  {
   "cell_type": "code",
   "execution_count": 15,
   "id": "402f5709",
   "metadata": {},
   "outputs": [
    {
     "name": "stdout",
     "output_type": "stream",
     "text": [
      "Risk of death: False\n"
     ]
    }
   ],
   "source": [
    "age = False\n",
    "chronic = False\n",
    "immune = False\n",
    "\n",
    "risk = age or chronic or immune\n",
    "print(f\"Risk of death: {risk}\")"
   ]
  },
  {
   "cell_type": "code",
   "execution_count": null,
   "id": "ed8dce00",
   "metadata": {},
   "outputs": [],
   "source": [
    "age = bool(int(input(\"are you a cigarette addict older than 75 years old? (Yes:)\")))"
   ]
  }
 ],
 "metadata": {
  "kernelspec": {
   "display_name": "Python 3 (ipykernel)",
   "language": "python",
   "name": "python3"
  },
  "language_info": {
   "codemirror_mode": {
    "name": "ipython",
    "version": 3
   },
   "file_extension": ".py",
   "mimetype": "text/x-python",
   "name": "python",
   "nbconvert_exporter": "python",
   "pygments_lexer": "ipython3",
   "version": "3.9.12"
  }
 },
 "nbformat": 4,
 "nbformat_minor": 5
}
