{
 "cells": [
  {
   "cell_type": "code",
   "execution_count": 1,
   "id": "862151b1",
   "metadata": {},
   "outputs": [
    {
     "name": "stdout",
     "output_type": "stream",
     "text": [
      "enter a number: 34\n"
     ]
    },
    {
     "data": {
      "text/plain": [
       "str"
      ]
     },
     "execution_count": 1,
     "metadata": {},
     "output_type": "execute_result"
    }
   ],
   "source": [
    "num = input(\"enter a number: \")\n",
    "type(num)"
   ]
  },
  {
   "cell_type": "code",
   "execution_count": 2,
   "id": "d1ee7548",
   "metadata": {},
   "outputs": [
    {
     "data": {
      "text/plain": [
       "'3434'"
      ]
     },
     "execution_count": 2,
     "metadata": {},
     "output_type": "execute_result"
    }
   ],
   "source": [
    "num+num"
   ]
  },
  {
   "cell_type": "code",
   "execution_count": 3,
   "id": "3de17afc",
   "metadata": {},
   "outputs": [
    {
     "name": "stdout",
     "output_type": "stream",
     "text": [
      "enter a number1: 3\n",
      "enter a number2: 4\n",
      "enter a number3: 5\n"
     ]
    }
   ],
   "source": [
    "num1 = input(\"enter a number1: \")\n",
    "num2 = input(\"enter a number2: \")\n",
    "num3 = input(\"enter a number3: \")"
   ]
  },
  {
   "cell_type": "code",
   "execution_count": 13,
   "id": "74d37f31",
   "metadata": {},
   "outputs": [],
   "source": [
    "num11 = int(num1)\n",
    "num22 = int(num2)\n",
    "num33 = int(num3)"
   ]
  },
  {
   "cell_type": "code",
   "execution_count": 14,
   "id": "09ab8e40",
   "metadata": {},
   "outputs": [
    {
     "data": {
      "text/plain": [
       "60"
      ]
     },
     "execution_count": 14,
     "metadata": {},
     "output_type": "execute_result"
    }
   ],
   "source": [
    "num11*num22*num33"
   ]
  },
  {
   "cell_type": "code",
   "execution_count": 15,
   "id": "9d184ae2",
   "metadata": {},
   "outputs": [
    {
     "name": "stdout",
     "output_type": "stream",
     "text": [
      "enter a number1: 3\n",
      "enter a number2: 4\n",
      "enter a number3: 5\n"
     ]
    }
   ],
   "source": [
    "num1 = int(input(\"enter a number1: \"))\n",
    "num2 = int(input(\"enter a number2: \"))\n",
    "num3 = int(input(\"enter a number3: \"))"
   ]
  },
  {
   "cell_type": "code",
   "execution_count": 24,
   "id": "0a04ac94",
   "metadata": {},
   "outputs": [
    {
     "name": "stdout",
     "output_type": "stream",
     "text": [
      "60\n"
     ]
    }
   ],
   "source": [
    "X = num1*num2*num3\n",
    "print(X)"
   ]
  },
  {
   "cell_type": "code",
   "execution_count": 17,
   "id": "c6cb20d3",
   "metadata": {},
   "outputs": [
    {
     "data": {
      "text/plain": [
       "12"
      ]
     },
     "execution_count": 17,
     "metadata": {},
     "output_type": "execute_result"
    }
   ],
   "source": [
    "num1+num2+num3"
   ]
  },
  {
   "cell_type": "code",
   "execution_count": 18,
   "id": "e9b62d57",
   "metadata": {},
   "outputs": [
    {
     "data": {
      "text/plain": [
       "-6"
      ]
     },
     "execution_count": 18,
     "metadata": {},
     "output_type": "execute_result"
    }
   ],
   "source": [
    "num1-num2-num3"
   ]
  },
  {
   "cell_type": "code",
   "execution_count": 19,
   "id": "385a4a1f",
   "metadata": {},
   "outputs": [
    {
     "name": "stdout",
     "output_type": "stream",
     "text": [
      "60\n"
     ]
    }
   ],
   "source": [
    "print(num1*num2*num3)"
   ]
  },
  {
   "cell_type": "code",
   "execution_count": 22,
   "id": "5cb895fb",
   "metadata": {},
   "outputs": [
    {
     "name": "stdout",
     "output_type": "stream",
     "text": [
      "the multiplication of num1, num2, num3 is equal to:  60\n"
     ]
    }
   ],
   "source": [
    "print(\"the multiplication of num1, num2, num3 is equal to: \", X)"
   ]
  },
  {
   "cell_type": "code",
   "execution_count": null,
   "id": "cf361e00",
   "metadata": {},
   "outputs": [],
   "source": [
    "# Body mass index = Weight/Height^2\n",
    "\n",
    "Weight = int(input(\"enter a number1\"))\n",
    "Height = int(float(input(\"enter a number2\")))\n",
    "\n",
    "Body = Weight/Height^2"
   ]
  },
  {
   "cell_type": "code",
   "execution_count": 27,
   "id": "4600f2b4",
   "metadata": {},
   "outputs": [
    {
     "data": {
      "text/plain": [
       "int"
      ]
     },
     "execution_count": 27,
     "metadata": {},
     "output_type": "execute_result"
    }
   ],
   "source": [
    "type(Weight)"
   ]
  },
  {
   "cell_type": "code",
   "execution_count": 30,
   "id": "7cb276c8",
   "metadata": {},
   "outputs": [
    {
     "data": {
      "text/plain": [
       "int"
      ]
     },
     "execution_count": 30,
     "metadata": {},
     "output_type": "execute_result"
    }
   ],
   "source": [
    "type(Height)"
   ]
  },
  {
   "cell_type": "code",
   "execution_count": null,
   "id": "3fc9b129",
   "metadata": {},
   "outputs": [],
   "source": [
    "Weight = int(input(\"enter a number1: \"))\n",
    "Height = int(float(input(\"enter a number2: \")))\n",
    "\n",
    "Body = Weight/Height**2"
   ]
  },
  {
   "cell_type": "code",
   "execution_count": null,
   "id": "3b23706e",
   "metadata": {},
   "outputs": [],
   "source": [
    "x=false\n",
    "type(x)"
   ]
  },
  {
   "cell_type": "code",
   "execution_count": null,
   "id": "7927cbb8",
   "metadata": {},
   "outputs": [],
   "source": []
  }
 ],
 "metadata": {
  "kernelspec": {
   "display_name": "Python 3 (ipykernel)",
   "language": "python",
   "name": "python3"
  },
  "language_info": {
   "codemirror_mode": {
    "name": "ipython",
    "version": 3
   },
   "file_extension": ".py",
   "mimetype": "text/x-python",
   "name": "python",
   "nbconvert_exporter": "python",
   "pygments_lexer": "ipython3",
   "version": "3.9.12"
  }
 },
 "nbformat": 4,
 "nbformat_minor": 5
}
