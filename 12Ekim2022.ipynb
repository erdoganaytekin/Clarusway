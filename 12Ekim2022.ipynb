{   
 "cells": [
  {
   "cell_type": "code",
   "execution_count": 7,
   "id": "0194470f",
   "metadata": {},
   "outputs": [
    {
     "name": "stdout",
     "output_type": "stream",
     "text": [
      "generosity wins in all circumstances\n"
     ]
    }
   ],
   "source": [
    "phrase = \"{marality} {1} {0} {condition}\".format(\"in all\", \"wins\", marality = \"generosity\", condition = \"circumstances\")\n",
    "\n",
    "print(phrase)"
   ]
  },
  {
   "cell_type": "code",
   "execution_count": 9,
   "id": "d5ae6068",
   "metadata": {},
   "outputs": [
    {
     "name": "stdout",
     "output_type": "stream",
     "text": [
      "generosity wins in all circumstances\n"
     ]
    }
   ],
   "source": [
    "phrase = \"{2} {1} {0} {3}\".format(\"in all\", \"wins\", \"generosity\", \"circumstances\")\n",
    "\n",
    "print(phrase)"
   ]
  },
  {
   "cell_type": "code",
   "execution_count": 13,
   "id": "c2e029c8",
   "metadata": {},
   "outputs": [
    {
     "name": "stdout",
     "output_type": "stream",
     "text": [
      "8\n"
     ]
    }
   ],
   "source": [
    "sample = f\"{2 ** 3}\"\n",
    "\n",
    "print(sample)"
   ]
  },
  {
   "cell_type": "code",
   "execution_count": 23,
   "id": "09581a88",
   "metadata": {},
   "outputs": [
    {
     "data": {
      "text/plain": [
       "'my name is Maria'"
      ]
     },
     "execution_count": 23,
     "metadata": {},
     "output_type": "execute_result"
    }
   ],
   "source": [
    "name = \"MARIA\"\n",
    "f\"my name is {name.capitalize()}\""
   ]
  },
  {
   "cell_type": "code",
   "execution_count": 26,
   "id": "98471fd7",
   "metadata": {},
   "outputs": [
    {
     "name": "stdout",
     "output_type": "stream",
     "text": [
      "Maria\n"
     ]
    }
   ],
   "source": [
    "my_name = \"maria\"\n",
    "\n",
    "my_name = my_name.capitalize()\n",
    "\n",
    "print(my_name)"
   ]
  },
  {
   "cell_type": "code",
   "execution_count": 28,
   "id": "f0ef1c10",
   "metadata": {},
   "outputs": [
    {
     "name": "stdout",
     "output_type": "stream",
     "text": [
      "1\n"
     ]
    }
   ],
   "source": [
    "print(None or 1)"
   ]
  },
  {
   "cell_type": "code",
   "execution_count": 30,
   "id": "24479d03",
   "metadata": {},
   "outputs": [
    {
     "name": "stdout",
     "output_type": "stream",
     "text": [
      "1\n"
     ]
    }
   ],
   "source": [
    "print(None or True and 1)"
   ]
  },
  {
   "cell_type": "code",
   "execution_count": 31,
   "id": "50c8c50f",
   "metadata": {},
   "outputs": [
    {
     "name": "stdout",
     "output_type": "stream",
     "text": [
      "1\n"
     ]
    }
   ],
   "source": [
    "print(True and 1)"
   ]
  },
  {
   "cell_type": "code",
   "execution_count": 32,
   "id": "2c9ea129",
   "metadata": {},
   "outputs": [
    {
     "name": "stdout",
     "output_type": "stream",
     "text": [
      "True\n"
     ]
    }
   ],
   "source": [
    "print(1 and True)"
   ]
  },
  {
   "cell_type": "code",
   "execution_count": 35,
   "id": "5212ecec",
   "metadata": {},
   "outputs": [],
   "source": [
    "name = \"Erdogan\"\n",
    "status = \"Engineer\"\n",
    "\n",
    "message = f\"Hi {name}. Are you an {status}?\""
   ]
  },
  {
   "cell_type": "code",
   "execution_count": 36,
   "id": "bef7672d",
   "metadata": {},
   "outputs": [
    {
     "data": {
      "text/plain": [
       "'Hi Erdogan. Are you an Engineer?'"
      ]
     },
     "execution_count": 36,
     "metadata": {},
     "output_type": "execute_result"
    }
   ],
   "source": [
    "message"
   ]
  },
  {
   "cell_type": "code",
   "execution_count": 43,
   "id": "7c5ec1a9",
   "metadata": {},
   "outputs": [
    {
     "data": {
      "text/plain": [
       "'hi Erdogan.Are youEngineer?'"
      ]
     },
     "execution_count": 43,
     "metadata": {},
     "output_type": "execute_result"
    }
   ],
   "source": [
    "message = f\"hi \\\n",
    "{name}.\\\n",
    "Are you\\\n",
    "{status}?\"\n",
    "message"
   ]
  },
  {
   "cell_type": "code",
   "execution_count": 46,
   "id": "1dbf69c5",
   "metadata": {},
   "outputs": [
    {
     "data": {
      "text/plain": [
       "'Hi Erdogan.Are you'"
      ]
     },
     "execution_count": 46,
     "metadata": {},
     "output_type": "execute_result"
    }
   ],
   "source": [
    "message = (\n",
    "f\"Hi {name}.\"\n",
    "    f\"Are you\")\n",
    "message"
   ]
  },
  {
   "cell_type": "code",
   "execution_count": 56,
   "id": "6e495102",
   "metadata": {},
   "outputs": [
    {
     "name": "stdout",
     "output_type": "stream",
     "text": [
      "clarusway\n",
      "CLARUSWAY\n",
      "Clarusway\n",
      "Clarusway\n",
      "clarusway\n",
      "Clarusway\n",
      "clarusway\n"
     ]
    }
   ],
   "source": [
    "var_string = 'Clarusway'\n",
    "print(var_string.lower())\n",
    "\n",
    "print(var_string.upper())\n",
    "\n",
    "print(var_string.capitalize())\n",
    "\n",
    "print(var_string.title())\n",
    "\n",
    "print(var_string.lower())\n",
    "\n",
    "\n",
    "print(var_string)\n",
    "var_string = 'Clarusway'.lower()\n",
    "print(var_string)"
   ]
  },
  {
   "cell_type": "code",
   "execution_count": 58,
   "id": "35c1ef51",
   "metadata": {},
   "outputs": [
    {
     "name": "stdout",
     "output_type": "stream",
     "text": [
      "in god we trust\n"
     ]
    }
   ],
   "source": [
    "var_str = 'In God we Trust'\n",
    "var_str.lower()\n",
    "print(var_str.lower())"
   ]
  },
  {
   "cell_type": "code",
   "execution_count": 61,
   "id": "7418791b",
   "metadata": {},
   "outputs": [
    {
     "data": {
      "text/plain": [
       "False"
      ]
     },
     "execution_count": 61,
     "metadata": {},
     "output_type": "execute_result"
    }
   ],
   "source": [
    "'Pyn' in 'Python'"
   ]
  },
  {
   "cell_type": "code",
   "execution_count": 66,
   "id": "a11f881e",
   "metadata": {},
   "outputs": [
    {
     "name": "stdout",
     "output_type": "stream",
     "text": [
      "False\n",
      "True\n"
     ]
    }
   ],
   "source": [
    "erdogan = 'asdfghj'\n",
    "\n",
    "print(erdogan.endswith('gh'))\n",
    "print(erdogan.startswith('asdfghj'))"
   ]
  },
  {
   "cell_type": "code",
   "execution_count": 67,
   "id": "951fef54",
   "metadata": {},
   "outputs": [],
   "source": [
    "isim = \"Ali veli\"\n"
   ]
  },
  {
   "cell_type": "code",
   "execution_count": 69,
   "id": "9454b1af",
   "metadata": {},
   "outputs": [
    {
     "data": {
      "text/plain": [
       "'aLI VELI'"
      ]
     },
     "execution_count": 69,
     "metadata": {},
     "output_type": "execute_result"
    }
   ],
   "source": [
    "isim.swapcase()"
   ]
  },
  {
   "cell_type": "code",
   "execution_count": 71,
   "id": "49a59e83",
   "metadata": {},
   "outputs": [
    {
     "name": "stdout",
     "output_type": "stream",
     "text": [
      "Ali veli\n"
     ]
    }
   ],
   "source": [
    "print(isim)"
   ]
  },
  {
   "cell_type": "code",
   "execution_count": 72,
   "id": "a6b529ba",
   "metadata": {},
   "outputs": [],
   "source": [
    "soyisim = \"Davis\""
   ]
  },
  {
   "cell_type": "code",
   "execution_count": 73,
   "id": "1e0d8e24",
   "metadata": {},
   "outputs": [
    {
     "data": {
      "text/plain": [
       "'dAVIS'"
      ]
     },
     "execution_count": 73,
     "metadata": {},
     "output_type": "execute_result"
    }
   ],
   "source": [
    "soy = soyisim.swapcase()\n",
    "\n",
    "soy"
   ]
  },
  {
   "cell_type": "code",
   "execution_count": 74,
   "id": "842250c7",
   "metadata": {},
   "outputs": [
    {
     "name": "stdout",
     "output_type": "stream",
     "text": [
      "HandsomeHandsomeHandsome\n"
     ]
    }
   ],
   "source": [
    "erdo = \"Handsome\"\n",
    "print(erdo*3)"
   ]
  },
  {
   "cell_type": "code",
   "execution_count": 76,
   "id": "bc4bc144",
   "metadata": {},
   "outputs": [
    {
     "name": "stdout",
     "output_type": "stream",
     "text": [
      "H   a   n   d   s   o   m   e\n"
     ]
    }
   ],
   "source": [
    "erdo = \"H a n d s o m e\"\n",
    "print(*erdo)"
   ]
  },
  {
   "cell_type": "code",
   "execution_count": 79,
   "id": "df1fe704",
   "metadata": {},
   "outputs": [
    {
     "data": {
      "text/plain": [
       "'Your name is ERDOGAN'"
      ]
     },
     "execution_count": 79,
     "metadata": {},
     "output_type": "execute_result"
    }
   ],
   "source": [
    "namee = \"ERDOGAN\"\n",
    "F\"Your name is \\\n",
    "{namee}\""
   ]
  },
  {
   "cell_type": "code",
   "execution_count": 83,
   "id": "f83c4c3f",
   "metadata": {},
   "outputs": [
    {
     "data": {
      "text/plain": [
       "'Nur is a young lady and she is a student at the UA'"
      ]
     },
     "execution_count": 83,
     "metadata": {},
     "output_type": "execute_result"
    }
   ],
   "source": [
    "name = \"Nur\"\n",
    "age = \"young\"\n",
    "gender = \"lady\"\n",
    "school = \"UA\"\n",
    "\n",
    "f\"{name} is a {age} \\\n",
    "{gender} and she is a \\\n",
    "student at the {school}\""
   ]
  },
  {
   "cell_type": "code",
   "execution_count": null,
   "id": "0d620462",
   "metadata": {},
   "outputs": [],
   "source": []
  }
 ],
 "metadata": {
  "kernelspec": {
   "display_name": "Python 3 (ipykernel)",
   "language": "python",
   "name": "python3"
  },
  "language_info": {
   "codemirror_mode": {
    "name": "ipython",
    "version": 3
   },
   "file_extension": ".py",
   "mimetype": "text/x-python",
   "name": "python",
   "nbconvert_exporter": "python",
   "pygments_lexer": "ipython3",
   "version": "3.9.12"
  }
 },
 "nbformat": 4,
 "nbformat_minor": 5
}
