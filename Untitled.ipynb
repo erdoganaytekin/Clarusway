{
 "cells": [
  {
   "cell_type": "code",
   "execution_count": 7,
   "id": "e9fdefb7",
   "metadata": {},
   "outputs": [
    {
     "data": {
      "text/plain": [
       "NoneType"
      ]
     },
     "execution_count": 7,
     "metadata": {},
     "output_type": "execute_result"
    }
   ],
   "source": [
    "x= None\n",
    "type(x) \n"
   ]
  },
  {
   "cell_type": "code",
   "execution_count": 8,
   "id": "dd0803a3",
   "metadata": {},
   "outputs": [],
   "source": [
    "import random"
   ]
  },
  {
   "cell_type": "code",
   "execution_count": 12,
   "id": "31b7c331",
   "metadata": {},
   "outputs": [
    {
     "name": "stdout",
     "output_type": "stream",
     "text": [
      "0.3897825679858663\n"
     ]
    }
   ],
   "source": [
    "print(random.random())"
   ]
  },
  {
   "cell_type": "code",
   "execution_count": 17,
   "id": "6de37cf2",
   "metadata": {},
   "outputs": [
    {
     "name": "stdout",
     "output_type": "stream",
     "text": [
      "my name is turan cinar\n"
     ]
    }
   ],
   "source": [
    "name = \"cinar\"\n",
    "surname = \"turan\"\n",
    "\n",
    "print('my name is {1} {0}'.format(name, surname))"
   ]
  },
  {
   "cell_type": "code",
   "execution_count": 27,
   "id": "cfd19138",
   "metadata": {},
   "outputs": [
    {
     "data": {
      "text/plain": [
       "15"
      ]
     },
     "execution_count": 27,
     "metadata": {},
     "output_type": "execute_result"
    }
   ],
   "source": [
    "x = \"erdogan aytekin\"\n",
    "len(x)"
   ]
  },
  {
   "cell_type": "code",
   "execution_count": 29,
   "id": "e4f21de9",
   "metadata": {},
   "outputs": [],
   "source": [
    "lenght = len(x)"
   ]
  },
  {
   "cell_type": "code",
   "execution_count": 36,
   "id": "89ce589a",
   "metadata": {},
   "outputs": [
    {
     "name": "stdout",
     "output_type": "stream",
     "text": [
      "rd\n"
     ]
    }
   ],
   "source": [
    "result = x[1:3]\n",
    "print(result)"
   ]
  },
  {
   "cell_type": "code",
   "execution_count": 37,
   "id": "c8d7582b",
   "metadata": {},
   "outputs": [
    {
     "name": "stdout",
     "output_type": "stream",
     "text": [
      "n\n"
     ]
    }
   ],
   "source": [
    "result = x[-1]\n",
    "print(result)"
   ]
  },
  {
   "cell_type": "code",
   "execution_count": 38,
   "id": "e7f72d74",
   "metadata": {},
   "outputs": [
    {
     "name": "stdout",
     "output_type": "stream",
     "text": [
      "11-7\n"
     ]
    }
   ],
   "source": [
    "print('11-7')"
   ]
  },
  {
   "cell_type": "code",
   "execution_count": null,
   "id": "d8bbe414",
   "metadata": {},
   "outputs": [],
   "source": []
  }
 ],
 "metadata": {
  "kernelspec": {
   "display_name": "Python 3 (ipykernel)",
   "language": "python",
   "name": "python3"
  },
  "language_info": {
   "codemirror_mode": {
    "name": "ipython",
    "version": 3
   },
   "file_extension": ".py",
   "mimetype": "text/x-python",
   "name": "python",
   "nbconvert_exporter": "python",
   "pygments_lexer": "ipython3",
   "version": "3.9.12"
  }
 },
 "nbformat": 4,
 "nbformat_minor": 5
}
