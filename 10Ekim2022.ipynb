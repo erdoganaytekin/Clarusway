{.       
 "cells": [
  {
   "cell_type": "code",
   "execution_count": 4,
   "id": "c0fde389",
   "metadata": {},
   "outputs": [
    {
     "name": "stdout",
     "output_type": "stream",
     "text": [
      "Risk: there is a risk of death: True\n"
     ]
    }
   ],
   "source": [
    "age = True\n",
    "\n",
    "chronic = True\n",
    "\n",
    "immune = True\n",
    "\n",
    "\n",
    "\n",
    "result = age and (chronic or immune)\n",
    "\n",
    "print(f'Risk: there is a risk of death: {result}')"
   ]
  },
  {
   "cell_type": "code",
   "execution_count": 7,
   "id": "1c9da299",
   "metadata": {},
   "outputs": [
    {
     "data": {
      "text/plain": [
       "'121121'"
      ]
     },
     "execution_count": 7,
     "metadata": {},
     "output_type": "execute_result"
    }
   ],
   "source": [
    "sonuc = str(((5+6)**2)) + '121'\n",
    "sonuc"
   ]
  },
  {
   "cell_type": "code",
   "execution_count": 10,
   "id": "c82de7cf",
   "metadata": {},
   "outputs": [
    {
     "data": {
      "text/plain": [
       "'ali deli'"
      ]
     },
     "execution_count": 10,
     "metadata": {},
     "output_type": "execute_result"
    }
   ],
   "source": [
    "'ali ' + 'deli'"
   ]
  },
  {
   "cell_type": "code",
   "execution_count": 11,
   "id": "e6cda763",
   "metadata": {},
   "outputs": [
    {
     "data": {
      "text/plain": [
       "'100500001'"
      ]
     },
     "execution_count": 11,
     "metadata": {},
     "output_type": "execute_result"
    }
   ],
   "source": [
    "'100' + '500' + '001'"
   ]
  },
  {
   "cell_type": "code",
   "execution_count": 16,
   "id": "fd39421c",
   "metadata": {},
   "outputs": [
    {
     "name": "stdout",
     "output_type": "stream",
     "text": [
      "u p p e r\n"
     ]
    }
   ],
   "source": [
    "x= 'upper'\n",
    "print(*x)"
   ]
  },
  {
   "cell_type": "code",
   "execution_count": 17,
   "id": "dad02391",
   "metadata": {},
   "outputs": [
    {
     "ename": "TypeError",
     "evalue": "unsupported operand type(s) for +: 'int' and 'str'",
     "output_type": "error",
     "traceback": [
      "\u001b[0;31m---------------------------------------------------------------------------\u001b[0m",
      "\u001b[0;31mTypeError\u001b[0m                                 Traceback (most recent call last)",
      "Input \u001b[0;32mIn [17]\u001b[0m, in \u001b[0;36m<cell line: 1>\u001b[0;34m()\u001b[0m\n\u001b[0;32m----> 1\u001b[0m \u001b[38;5;241;43m1\u001b[39;49m\u001b[43m \u001b[49m\u001b[38;5;241;43m+\u001b[39;49m\u001b[43m \u001b[49m\u001b[38;5;124;43m'\u001b[39;49m\u001b[38;5;124;43m1\u001b[39;49m\u001b[38;5;124;43m'\u001b[39;49m\n",
      "\u001b[0;31mTypeError\u001b[0m: unsupported operand type(s) for +: 'int' and 'str'"
     ]
    }
   ],
   "source": [
    "1 + '1'"
   ]
  },
  {
   "cell_type": "code",
   "execution_count": 19,
   "id": "781f26d8",
   "metadata": {},
   "outputs": [
    {
     "name": "stdout",
     "output_type": "stream",
     "text": [
      "I   a m   a n g r y . . .\n",
      "1 4 5 3\n"
     ]
    }
   ],
   "source": [
    "st_1 = 'I am angry...'\n",
    "print(*st_1)\n",
    "st_2 = '1453'\n",
    "print(*st_2)"
   ]
  },
  {
   "cell_type": "code",
   "execution_count": null,
   "id": "c7474c36",
   "metadata": {},
   "outputs": [],
   "source": [
    "# Celsius - Fahrenheit °F = °C × 1.8 + 32\n",
    "\n",
    "Celsius = float(input('Celsius: '))\n",
    "\n",
    "result = Celsius*1.8 +32\n",
    "print(Celsius, 'Celsius=', result, 'Fahrenheit')\n",
    "\n",
    "# 1 mile is approximately equal to 1.60934 km.\n",
    "\n",
    "Kilometers = float(input('Kilometers: '))\n",
    "\n",
    "result = Kilometers*1.60934\n",
    "print(Kilometers, 'Kilometers=', result, 'Miles')"
   ]
  },
  {
   "cell_type": "code",
   "execution_count": null,
   "id": "b47411a8",
   "metadata": {},
   "outputs": [],
   "source": [
    "Celsius = float(input('Celsius: '))\n",
    "\n",
    "result = Celsius*1.8 +32\n",
    "print(Celsius, '=' result, 'Fahrenheit')"
   ]
  },
  {
   "cell_type": "code",
   "execution_count": null,
   "id": "d7ada0b3",
   "metadata": {},
   "outputs": [],
   "source": [
    "# 0 and not \"write me\"\n",
    "\n",
    "y = \"write me\" and not 0\n",
    "\n",
    "pirnt(y)"
   ]
  },
  {
   "cell_type": "code",
   "execution_count": 15,
   "id": "bcfb23fd",
   "metadata": {},
   "outputs": [
    {
     "name": "stdout",
     "output_type": "stream",
     "text": [
      "write me\n"
     ]
    }
   ],
   "source": [
    "print(not 0 and str(\"write me\"))"
   ]
  },
  {
   "cell_type": "code",
   "execution_count": 12,
   "id": "a5c13ad8",
   "metadata": {},
   "outputs": [
    {
     "name": "stdout",
     "output_type": "stream",
     "text": [
      "True\n"
     ]
    }
   ],
   "source": [
    "print(str(\"write me\") and not 0)"
   ]
  },
  {
   "cell_type": "code",
   "execution_count": 18,
   "id": "57d8dc04",
   "metadata": {},
   "outputs": [
    {
     "name": "stdout",
     "output_type": "stream",
     "text": [
      "write me\n"
     ]
    }
   ],
   "source": [
    "print(not 0 and \"write me\")"
   ]
  },
  {
   "cell_type": "code",
   "execution_count": null,
   "id": "6fdb2704",
   "metadata": {},
   "outputs": [],
   "source": []
  }
 ],
 "metadata": {
  "kernelspec": {
   "display_name": "Python 3 (ipykernel)",
   "language": "python",
   "name": "python3"
  },
  "language_info": {
   "codemirror_mode": {
    "name": "ipython",
    "version": 3
   },
   "file_extension": ".py",
   "mimetype": "text/x-python",
   "name": "python",
   "nbconvert_exporter": "python",
   "pygments_lexer": "ipython3",
   "version": "3.9.12"
  }
 },
 "nbformat": 4,
 "nbformat_minor": 5
}
