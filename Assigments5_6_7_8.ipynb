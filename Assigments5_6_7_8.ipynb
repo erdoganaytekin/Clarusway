{
 "cells": [
  {
   "cell_type": "code",
   "execution_count": 25,
   "id": "7c9b7298",
   "metadata": {},
   "outputs": [
    {
     "name": "stdout",
     "output_type": "stream",
     "text": [
      "Total profit:  13130\n",
      "$3.00\n",
      "$29.99\n",
      "$4.10\n"
     ]
    }
   ],
   "source": [
    "# the profit will be : 13130\n",
    "\n",
    "cost_value = 31.87\n",
    "sell_value = 45.00\n",
    "inventory =  1000\n",
    "\n",
    "Total_profit = (sell_value - cost_value)*inventory\n",
    "\n",
    "print(\"Total profit: \", round(Total_profit))\n",
    "\n",
    "# 3       3,00 $\n",
    "# 29.99   29,99 $\n",
    "# 4.1     $4.10\n",
    "\n",
    "amount1 = float(3)\n",
    "amount2 = float(29.99)\n",
    "amount3 = float(4.1)\n",
    "\n",
    "print('$' + format(amount1, ',.2f'))\n",
    "print('$' + format(amount2, ',.2f'))\n",
    "print('$' + format(amount3, ',.2f'))\n",
    "\n",
    "# Output: Total profit:  13130\n",
    "#         $3.00\n",
    "#         $29.99\n",
    "#         $4.10\n",
    "\n",
    "# Text: If we sell 1000 products for $45, \n",
    "# which we bought each one for $31.87, \n",
    "# we will make a total profit of $13130."
   ]
  },
  {
   "cell_type": "code",
   "execution_count": 55,
   "id": "dd8015f0",
   "metadata": {},
   "outputs": [
    {
     "name": "stdout",
     "output_type": "stream",
     "text": [
      "the most frequent number is 3 and it was 4 times repeated.\n"
     ]
    }
   ],
   "source": [
    "def most_frequent(List):\n",
    "    return max(set(List), key = List.count)\n",
    "List = [1, 3, 7, 4, 3, 0, 3, 6, 3]\n",
    "print(\"the most frequent number is\", most_frequent(List), \"and it was\",\\\n",
    "      List.count(most_frequent(List)), \"times repeated.\")\n",
    "\n",
    "# Output : the most frequent number is 3 and it was 4 times repeated."
   ]
  },
  {
   "cell_type": "code",
   "execution_count": 2,
   "id": "c2660925",
   "metadata": {
    "scrolled": true
   },
   "outputs": [
    {
     "name": "stdout",
     "output_type": "stream",
     "text": [
      "Enter the 4-digit year: 400\n",
      "True\n"
     ]
    }
   ],
   "source": [
    "# Text: \"If  a year is divisible by 400, it is a leap year.\n",
    "# If a year is divisible by 100 and not by 400, it is not a leap year.\n",
    "# If a year is divisible by 4 and not by 100, it is a leap year.\n",
    "# Every other years are not leap year.\n",
    "\n",
    "\n",
    "def leapYear(year):\n",
    "    if year % 400 == 0:\n",
    "        return True;\n",
    "    elif year % 100 == 0:\n",
    "        return False;\n",
    "    elif year % 4 == 0:\n",
    "        return True;\n",
    "    else:\n",
    "        return False;\n",
    "\n",
    "year = int(input(\"Enter the 4-digit year: \"));\n",
    "print(leapYear(year));"
   ]
  },
  {
   "cell_type": "code",
   "execution_count": 1,
   "id": "3148c2b0",
   "metadata": {},
   "outputs": [
    {
     "name": "stdout",
     "output_type": "stream",
     "text": [
      "False (uses only left-hand fingers)*\n",
      "False (uses only right-hand fingers)*\n",
      "True (uses both hand fingers)*\n"
     ]
    }
   ],
   "source": [
    "tester = {'t', 'e', 's', 't', 'e', 'r'}\n",
    "polly = {'p', 'o', 'l', 'l', 'y'}\n",
    "clarusway = {'c', 'l', 'a', 'r', 'u', 's', 'w', 'a', 'y'}\n",
    "\n",
    "x = {\"q\", \"w\", \"e\", \"r\", \"t\", \"a\", \"s\", \"d\", \"f\", \"g\", \"z\", \"x\", \"c\", \"v\", \"b\"}\n",
    "y = {\"y\", \"u\", \"i\", \"o\", \"p\", \"h\", \"j\", \"k\", \"l\", \"n\", \"m\"}\n",
    "z = {\"q\", \"w\", \"e\", \"r\", \"t\", \"a\", \"s\", \"d\", \"f\", \"g\", \"z\", \"x\", \"c\", \"v\", \"b\", \"y\", \"u\", \"i\", \"o\", \"p\", \"h\", \"j\", \"k\", \"l\", \"n\", \"m\"}\n",
    "z1 = x.issuperset(tester)\n",
    "z1= not z1\n",
    "z2 = y.issuperset(polly)\n",
    "z2= not z2\n",
    "z3 = z.issuperset(clarusway) \n",
    "print(z1,\"(uses only left-hand fingers)*\")\n",
    "print(z2,\"(uses only right-hand fingers)*\")\n",
    "print(z3,\"(uses both hand fingers)*\")"
   ]
  },
  {
   "cell_type": "code",
   "execution_count": null,
   "id": "7096ce67",
   "metadata": {},
   "outputs": [],
   "source": []
  }
 ],
 "metadata": {
  "kernelspec": {
   "display_name": "Python 3 (ipykernel)",
   "language": "python",
   "name": "python3"
  },
  "language_info": {
   "codemirror_mode": {
    "name": "ipython",
    "version": 3
   },
   "file_extension": ".py",
   "mimetype": "text/x-python",
   "name": "python",
   "nbconvert_exporter": "python",
   "pygments_lexer": "ipython3",
   "version": "3.9.12"
  }
 },
 "nbformat": 4,
 "nbformat_minor": 5
}
