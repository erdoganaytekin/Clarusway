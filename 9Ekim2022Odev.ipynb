{
 "cells": [
  {
   "cell_type": "code",
   "execution_count": 29,
   "id": "03e69a93",
   "metadata": {},
   "outputs": [
    {
     "name": "stdout",
     "output_type": "stream",
     "text": [
      "At the end of the 1 day 1070.0\n",
      "At the end of the 2 day 1144.9\n",
      "At the end of the 3 day 1225.0430000000001\n",
      "At the end of the 4 day 1310.7960100000003\n",
      "At the end of the 5 day 1402.5517307000005\n",
      "At the end of the 6 day 1500.7303518490005\n",
      "At the end of the 7 day 1605.7814764784307\n"
     ]
    }
   ],
   "source": [
    "# I have 1000$ for now\n",
    "# let's deposit it fot 7% fixed profit daily for a week\n",
    "# Write everyday income and show total money for seventh day.\n",
    "\n",
    "# Money = 1000 = b\n",
    "# Rate = 0.07\n",
    "# Day = 7 = a\n",
    "\n",
    "\n",
    "b = 1000\n",
    "a = 0\n",
    "while a < 7:\n",
    "    b *= 1.07\n",
    "    a+= 1\n",
    "    print('At the end of the', a,'day' ,b)"
   ]
  },
  {
   "cell_type": "code",
   "execution_count": 33,
   "id": "28def0b7",
   "metadata": {},
   "outputs": [
    {
     "data": {
      "text/plain": [
       "False"
      ]
     },
     "execution_count": 33,
     "metadata": {},
     "output_type": "execute_result"
    }
   ],
   "source": [
    "# age =  # can be assigned only True/False\n",
    "# chronic =  # can be assigned only True/False\n",
    "# immune =  # can be assigned only True/False\n",
    "# risk = ? (True or False)\n",
    "\n",
    "\n",
    "age = True\n",
    "chronic = True\n",
    "Immune = False\n",
    "\n",
    "bool(True and False or None)"
   ]
  },
  {
   "cell_type": "code",
   "execution_count": 42,
   "id": "f3dd8163",
   "metadata": {},
   "outputs": [],
   "source": [
    "yas = 18\n",
    "mezuniyet = 'lise'\n",
    "sonuc = (yas>=18) and ((mezuniyet=='lise') or (mezuniyet=='üniversite') or (mezuniyet=='yüksek lisans '))"
   ]
  },
  {
   "cell_type": "code",
   "execution_count": 43,
   "id": "29d3f1ea",
   "metadata": {},
   "outputs": [
    {
     "data": {
      "text/plain": [
       "True"
      ]
     },
     "execution_count": 43,
     "metadata": {},
     "output_type": "execute_result"
    }
   ],
   "source": [
    "sonuc"
   ]
  },
  {
   "cell_type": "code",
   "execution_count": 90,
   "id": "ff8d2f06",
   "metadata": {},
   "outputs": [
    {
     "name": "stdout",
     "output_type": "stream",
     "text": [
      "Cigarette addict age>75: True\n",
      "Chronic: False\n",
      "Immune: False\n"
     ]
    }
   ],
   "source": [
    "age = input('Cigarette addict age>75: ')\n",
    "chronic = input('Chronic: ')\n",
    "immune = input('Immune: ')\n",
    "result = (age == False) or ((chronic== False) and (immune== False))"
   ]
  },
  {
   "cell_type": "code",
   "execution_count": 91,
   "id": "1c08f2e9",
   "metadata": {},
   "outputs": [
    {
     "name": "stdout",
     "output_type": "stream",
     "text": [
      "False\n"
     ]
    }
   ],
   "source": [
    "print(result)"
   ]
  },
  {
   "cell_type": "code",
   "execution_count": 89,
   "id": "564fe2e7",
   "metadata": {},
   "outputs": [
    {
     "name": "stdout",
     "output_type": "stream",
     "text": [
      "Risk: there is not a risk of death\n"
     ]
    }
   ],
   "source": [
    "if result == True:\n",
    "    print(\"Risk: there is a risk of death\")\n",
    "else:\n",
    "    print(\"Risk: there is not a risk of death\")"
   ]
  },
  {
   "cell_type": "code",
   "execution_count": null,
   "id": "7ab0aa39",
   "metadata": {},
   "outputs": [],
   "source": []
  }
 ],
 "metadata": {
  "kernelspec": {
   "display_name": "Python 3 (ipykernel)",
   "language": "python",
   "name": "python3"
  },
  "language_info": {
   "codemirror_mode": {
    "name": "ipython",
    "version": 3
   },
   "file_extension": ".py",
   "mimetype": "text/x-python",
   "name": "python",
   "nbconvert_exporter": "python",
   "pygments_lexer": "ipython3",
   "version": "3.9.12"
  }
 },
 "nbformat": 4,
 "nbformat_minor": 5
}
