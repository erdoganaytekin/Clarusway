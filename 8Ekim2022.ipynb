{
 "cells": [
  {
   "cell_type": "code",
   "execution_count": 3,
   "id": "d73356d9",
   "metadata": {},
   "outputs": [
    {
     "name": "stdout",
     "output_type": "stream",
     "text": [
      "4+5+6\n"
     ]
    }
   ],
   "source": [
    "print(\"4+5+6\")"
   ]
  },
  {
   "cell_type": "code",
   "execution_count": 4,
   "id": "e8af2360",
   "metadata": {},
   "outputs": [
    {
     "name": "stdout",
     "output_type": "stream",
     "text": [
      "15\n"
     ]
    }
   ],
   "source": [
    "print(4+5+6)"
   ]
  },
  {
   "cell_type": "code",
   "execution_count": 12,
   "id": "b0e0a2f1",
   "metadata": {},
   "outputs": [
    {
     "name": "stdout",
     "output_type": "stream",
     "text": [
      "78.5 : cm^2\n"
     ]
    }
   ],
   "source": [
    "pi = 3.14\n",
    "r = 5\n",
    "\n",
    "Area = pi*r**2\n",
    "print(Area,\": cm^2\")"
   ]
  },
  {
   "cell_type": "code",
   "execution_count": 7,
   "id": "270bd0d3",
   "metadata": {},
   "outputs": [
    {
     "name": "stdout",
     "output_type": "stream",
     "text": [
      "78.5\n"
     ]
    }
   ],
   "source": [
    "print(Area)"
   ]
  },
  {
   "cell_type": "code",
   "execution_count": 14,
   "id": "0ed99143",
   "metadata": {},
   "outputs": [],
   "source": [
    "import numpy as np"
   ]
  },
  {
   "cell_type": "code",
   "execution_count": 15,
   "id": "6da1da4b",
   "metadata": {},
   "outputs": [
    {
     "data": {
      "text/plain": [
       "3.14"
      ]
     },
     "execution_count": 15,
     "metadata": {},
     "output_type": "execute_result"
    }
   ],
   "source": [
    "pi"
   ]
  },
  {
   "cell_type": "code",
   "execution_count": 7,
   "id": "80cf8733",
   "metadata": {},
   "outputs": [
    {
     "name": "stdout",
     "output_type": "stream",
     "text": [
      "10.0\n"
     ]
    }
   ],
   "source": [
    "print((4*5)/2)"
   ]
  },
  {
   "cell_type": "code",
   "execution_count": 8,
   "id": "ba964e12",
   "metadata": {},
   "outputs": [
    {
     "data": {
      "text/plain": [
       "4.0"
      ]
     },
     "execution_count": 8,
     "metadata": {},
     "output_type": "execute_result"
    }
   ],
   "source": [
    "16**0.5"
   ]
  },
  {
   "cell_type": "code",
   "execution_count": 10,
   "id": "6d87e404",
   "metadata": {},
   "outputs": [
    {
     "name": "stdout",
     "output_type": "stream",
     "text": [
      "10\n"
     ]
    }
   ],
   "source": [
    "degisken = 10\n",
    "print(degisken)"
   ]
  },
  {
   "cell_type": "code",
   "execution_count": 11,
   "id": "c364436c",
   "metadata": {},
   "outputs": [],
   "source": [
    "degisken = degisken + 1"
   ]
  },
  {
   "cell_type": "code",
   "execution_count": 12,
   "id": "18c4a0e5",
   "metadata": {},
   "outputs": [
    {
     "name": "stdout",
     "output_type": "stream",
     "text": [
      "11\n"
     ]
    }
   ],
   "source": [
    "print(degisken)"
   ]
  },
  {
   "cell_type": "code",
   "execution_count": 17,
   "id": "d8eb3059",
   "metadata": {},
   "outputs": [
    {
     "data": {
      "text/plain": [
       "26"
      ]
     },
     "execution_count": 17,
     "metadata": {},
     "output_type": "execute_result"
    }
   ],
   "source": [
    "degisken+= 5\n",
    "degisken"
   ]
  },
  {
   "cell_type": "code",
   "execution_count": 25,
   "id": "c98081eb",
   "metadata": {},
   "outputs": [],
   "source": [
    "x = 5\n",
    "x+=1"
   ]
  },
  {
   "cell_type": "code",
   "execution_count": 24,
   "id": "64c2c4f9",
   "metadata": {},
   "outputs": [
    {
     "data": {
      "text/plain": [
       "6"
      ]
     },
     "execution_count": 24,
     "metadata": {},
     "output_type": "execute_result"
    }
   ],
   "source": [
    "x"
   ]
  },
  {
   "cell_type": "code",
   "execution_count": 26,
   "id": "5ee469b6",
   "metadata": {},
   "outputs": [],
   "source": [
    "a = 4"
   ]
  },
  {
   "cell_type": "code",
   "execution_count": 36,
   "id": "70932aaa",
   "metadata": {},
   "outputs": [
    {
     "data": {
      "text/plain": [
       "28"
      ]
     },
     "execution_count": 36,
     "metadata": {},
     "output_type": "execute_result"
    }
   ],
   "source": [
    "a+=4\n",
    "a"
   ]
  },
  {
   "cell_type": "code",
   "execution_count": 43,
   "id": "c0cb1600",
   "metadata": {},
   "outputs": [
    {
     "name": "stdout",
     "output_type": "stream",
     "text": [
      "15\n"
     ]
    }
   ],
   "source": [
    "c = 5\n",
    "d = 10\n",
    "c+=d\n",
    "print(c)"
   ]
  },
  {
   "cell_type": "code",
   "execution_count": 45,
   "id": "1550816e",
   "metadata": {},
   "outputs": [
    {
     "data": {
      "text/plain": [
       "8.0"
      ]
     },
     "execution_count": 45,
     "metadata": {},
     "output_type": "execute_result"
    }
   ],
   "source": [
    "4*((4/2)*(2/2))"
   ]
  },
  {
   "cell_type": "code",
   "execution_count": 46,
   "id": "6265e710",
   "metadata": {},
   "outputs": [],
   "source": [
    "a = (1 + 3 ) ** (2 ** (1 * 2 / 2) / 2)\n",
    "print"
   ]
  },
  {
   "cell_type": "code",
   "execution_count": 52,
   "id": "fe11ec05",
   "metadata": {},
   "outputs": [
    {
     "name": "stdout",
     "output_type": "stream",
     "text": [
      "5.0\n"
     ]
    }
   ],
   "source": [
    "a = 3\n",
    "b = 4\n",
    "# c = ?\n",
    "\n",
    "# hypotenuse = (a**2 + b**2)**0.5\n",
    "\n",
    "c = (a**2 + b**2)**0.5\n",
    "print(c)"
   ]
  },
  {
   "cell_type": "code",
   "execution_count": 7,
   "id": "ebbf0b02",
   "metadata": {},
   "outputs": [
    {
     "name": "stdout",
     "output_type": "stream",
     "text": [
      "1 2\n"
     ]
    }
   ],
   "source": [
    "x = 1\n",
    "y = 2\n",
    "print(x,y)"
   ]
  },
  {
   "cell_type": "code",
   "execution_count": 18,
   "id": "f0a39eb7",
   "metadata": {},
   "outputs": [],
   "source": [
    "?print"
   ]
  },
  {
   "cell_type": "code",
   "execution_count": 8,
   "id": "125b09b1",
   "metadata": {},
   "outputs": [
    {
     "name": "stdout",
     "output_type": "stream",
     "text": [
      "ali veli deli\n",
      "veli\n"
     ]
    }
   ],
   "source": [
    "print(\"ali\",\"veli\",\"deli\")\n",
    "print(\"veli\")"
   ]
  },
  {
   "cell_type": "code",
   "execution_count": 20,
   "id": "fc3e21dd",
   "metadata": {},
   "outputs": [
    {
     "name": "stdout",
     "output_type": "stream",
     "text": [
      "ali veli deli\n",
      "veli\n"
     ]
    }
   ],
   "source": [
    "print(\"ali\",\"veli\",\"deli\", end= '\\n')\n",
    "print(\"veli\")"
   ]
  },
  {
   "cell_type": "code",
   "execution_count": 13,
   "id": "92af0ab9",
   "metadata": {},
   "outputs": [
    {
     "name": "stdout",
     "output_type": "stream",
     "text": [
      "alivelideli\n",
      "veli\n"
     ]
    }
   ],
   "source": [
    "print(\"ali\",\"veli\",\"deli\", sep=\"\")\n",
    "print(\"veli\")"
   ]
  },
  {
   "cell_type": "code",
   "execution_count": 12,
   "id": "f4b7e638",
   "metadata": {},
   "outputs": [],
   "source": [
    "c = 'Mustafa'"
   ]
  },
  {
   "cell_type": "code",
   "execution_count": 21,
   "id": "56bfc6bd",
   "metadata": {},
   "outputs": [
    {
     "ename": "SyntaxError",
     "evalue": "invalid syntax (3086914351.py, line 2)",
     "output_type": "error",
     "traceback": [
      "\u001b[0;36m  Input \u001b[0;32mIn [21]\u001b[0;36m\u001b[0m\n\u001b[0;31m    print('ali' end = 'nin')\u001b[0m\n\u001b[0m                ^\u001b[0m\n\u001b[0;31mSyntaxError\u001b[0m\u001b[0;31m:\u001b[0m invalid syntax\n"
     ]
    }
   ],
   "source": [
    "print('veli', 'ile', 'ayse')\n",
    "print('ali' end = 'nin')"
   ]
  },
  {
   "cell_type": "code",
   "execution_count": 22,
   "id": "a0fa103e",
   "metadata": {},
   "outputs": [
    {
     "data": {
      "text/plain": [
       "1"
      ]
     },
     "execution_count": 22,
     "metadata": {},
     "output_type": "execute_result"
    }
   ],
   "source": [
    "5//5"
   ]
  },
  {
   "cell_type": "code",
   "execution_count": 23,
   "id": "cb0a5ebb",
   "metadata": {},
   "outputs": [
    {
     "data": {
      "text/plain": [
       "1.0"
      ]
     },
     "execution_count": 23,
     "metadata": {},
     "output_type": "execute_result"
    }
   ],
   "source": [
    "5/5"
   ]
  },
  {
   "cell_type": "code",
   "execution_count": 26,
   "id": "ea4c3d61",
   "metadata": {},
   "outputs": [
    {
     "name": "stdout",
     "output_type": "stream",
     "text": [
      "I bought 6 kg. of apple thismorning\n",
      "I bought 6 kg.of apple this morning\n",
      "I bought6 kg. of apple this morning\n",
      "I bought 6 kg. of apple thismorning\n"
     ]
    }
   ],
   "source": [
    "text1= \"I bought\" \n",
    "text2 = \"kg. of apple thismorning\" \n",
    "amount = 6 \n",
    "text3 = text1 + \" \" +str (amount) + \" \" + text2 \n",
    "print (text1,amount, text2) \n",
    "print ( \"I bought\" , 6, \"kg.of apple this morning\" ) \n",
    "print ( \"I bought\" + \"6 \" + \"kg. of apple this morning\" )\n",
    "print (text3)"
   ]
  },
  {
   "cell_type": "code",
   "execution_count": 30,
   "id": "6eb7c46b",
   "metadata": {},
   "outputs": [
    {
     "name": "stdout",
     "output_type": "stream",
     "text": [
      "I bought 6 kg. of apple this morning\n"
     ]
    }
   ],
   "source": [
    "print ( \"I bought \" + \"6 \" + \"kg. of apple this morning\" )"
   ]
  },
  {
   "cell_type": "code",
   "execution_count": 33,
   "id": "dae65cb9",
   "metadata": {},
   "outputs": [
    {
     "name": "stdout",
     "output_type": "stream",
     "text": [
      "Ahmet Bey\\in ceketi\n"
     ]
    }
   ],
   "source": [
    "print('Ahmet Bey\\in ceketi')"
   ]
  },
  {
   "cell_type": "code",
   "execution_count": 39,
   "id": "a0a37683",
   "metadata": {},
   "outputs": [
    {
     "name": "stdout",
     "output_type": "stream",
     "text": [
      "Ahmet Bey\b ceketi\n"
     ]
    }
   ],
   "source": [
    "print('Ahmet Bey\\b ceketi')"
   ]
  },
  {
   "cell_type": "code",
   "execution_count": 37,
   "id": "c89bea70",
   "metadata": {},
   "outputs": [
    {
     "name": "stdout",
     "output_type": "stream",
     "text": [
      "Ahmet Bey\t ceketi\n"
     ]
    }
   ],
   "source": [
    "print('Ahmet Bey\\t ceketi')"
   ]
  },
  {
   "cell_type": "code",
   "execution_count": 38,
   "id": "8c1dd237",
   "metadata": {},
   "outputs": [
    {
     "name": "stdout",
     "output_type": "stream",
     "text": [
      "Ahmet Bey\n",
      "oo ceketi\n"
     ]
    }
   ],
   "source": [
    "print('Ahmet Bey\\noo ceketi')"
   ]
  },
  {
   "cell_type": "code",
   "execution_count": 41,
   "id": "b7ac0ff6",
   "metadata": {},
   "outputs": [
    {
     "name": "stdout",
     "output_type": "stream",
     "text": [
      "Ahmet Beyyyy\b ceketi\n"
     ]
    }
   ],
   "source": [
    "print('Ahmet Beyyyy\\b ceketi')"
   ]
  },
  {
   "cell_type": "code",
   "execution_count": 42,
   "id": "a84e5645",
   "metadata": {},
   "outputs": [
    {
     "name": "stdout",
     "output_type": "stream",
     "text": [
      "ayla\\nin cantasi\n"
     ]
    }
   ],
   "source": [
    "print('ayla\\\\nin cantasi')"
   ]
  },
  {
   "cell_type": "code",
   "execution_count": 43,
   "id": "62020d2e",
   "metadata": {},
   "outputs": [
    {
     "name": "stdout",
     "output_type": "stream",
     "text": [
      "ayla\n",
      "in cantasi\n"
     ]
    }
   ],
   "source": [
    "print('ayla\\nin cantasi')"
   ]
  },
  {
   "cell_type": "code",
   "execution_count": 45,
   "id": "e5c53603",
   "metadata": {},
   "outputs": [
    {
     "name": "stdout",
     "output_type": "stream",
     "text": [
      "C: \\ north pole \n",
      " oise_penguins.txt\n",
      "----------\n",
      "first\t second\t third\n"
     ]
    }
   ],
   "source": [
    "print ( 'C: \\\\ north pole \\n oise_penguins.txt' ) \n",
    "print ( '----------' ) \n",
    "print ( 'first' , 'second' , 'third' , sep= '\\t ' )"
   ]
  },
  {
   "cell_type": "code",
   "execution_count": 46,
   "id": "9feee542",
   "metadata": {},
   "outputs": [
    {
     "name": "stdout",
     "output_type": "stream",
     "text": [
      "Ahmet Bey\n",
      "oo ceketi\n"
     ]
    }
   ],
   "source": [
    "print('Ahmet Bey\\noo ceketi')"
   ]
  },
  {
   "cell_type": "code",
   "execution_count": 48,
   "id": "708676d2",
   "metadata": {},
   "outputs": [
    {
     "data": {
      "text/plain": [
       "False"
      ]
     },
     "execution_count": 48,
     "metadata": {},
     "output_type": "execute_result"
    }
   ],
   "source": [
    "False and True"
   ]
  },
  {
   "cell_type": "code",
   "execution_count": 49,
   "id": "6e851a67",
   "metadata": {},
   "outputs": [
    {
     "data": {
      "text/plain": [
       "True"
      ]
     },
     "execution_count": 49,
     "metadata": {},
     "output_type": "execute_result"
    }
   ],
   "source": [
    "True"
   ]
  },
  {
   "cell_type": "code",
   "execution_count": 51,
   "id": "8c953f9d",
   "metadata": {},
   "outputs": [
    {
     "data": {
      "text/plain": [
       "True"
      ]
     },
     "execution_count": 51,
     "metadata": {},
     "output_type": "execute_result"
    }
   ],
   "source": [
    "bool(1)"
   ]
  },
  {
   "cell_type": "code",
   "execution_count": 55,
   "id": "5d1020dd",
   "metadata": {},
   "outputs": [
    {
     "data": {
      "text/plain": [
       "False"
      ]
     },
     "execution_count": 55,
     "metadata": {},
     "output_type": "execute_result"
    }
   ],
   "source": [
    "bool(0)"
   ]
  },
  {
   "cell_type": "code",
   "execution_count": 56,
   "id": "6e8dcc7b",
   "metadata": {},
   "outputs": [
    {
     "data": {
      "text/plain": [
       "False"
      ]
     },
     "execution_count": 56,
     "metadata": {},
     "output_type": "execute_result"
    }
   ],
   "source": [
    "bool(None)"
   ]
  },
  {
   "cell_type": "code",
   "execution_count": 57,
   "id": "e166101a",
   "metadata": {},
   "outputs": [
    {
     "data": {
      "text/plain": [
       "True"
      ]
     },
     "execution_count": 57,
     "metadata": {},
     "output_type": "execute_result"
    }
   ],
   "source": [
    "bool(\"4\")"
   ]
  },
  {
   "cell_type": "code",
   "execution_count": 59,
   "id": "2a7fef21",
   "metadata": {},
   "outputs": [
    {
     "data": {
      "text/plain": [
       "True"
      ]
     },
     "execution_count": 59,
     "metadata": {},
     "output_type": "execute_result"
    }
   ],
   "source": [
    "bool(\" \")"
   ]
  },
  {
   "cell_type": "code",
   "execution_count": 60,
   "id": "1e870c96",
   "metadata": {},
   "outputs": [
    {
     "data": {
      "text/plain": [
       "True"
      ]
     },
     "execution_count": 60,
     "metadata": {},
     "output_type": "execute_result"
    }
   ],
   "source": [
    "bool(0.4)"
   ]
  },
  {
   "cell_type": "code",
   "execution_count": 61,
   "id": "3148a01a",
   "metadata": {},
   "outputs": [
    {
     "data": {
      "text/plain": [
       "True"
      ]
     },
     "execution_count": 61,
     "metadata": {},
     "output_type": "execute_result"
    }
   ],
   "source": [
    "bool(3434)"
   ]
  },
  {
   "cell_type": "code",
   "execution_count": 62,
   "id": "d6b11042",
   "metadata": {},
   "outputs": [
    {
     "data": {
      "text/plain": [
       "False"
      ]
     },
     "execution_count": 62,
     "metadata": {},
     "output_type": "execute_result"
    }
   ],
   "source": [
    "bool(\"\")"
   ]
  },
  {
   "cell_type": "code",
   "execution_count": 63,
   "id": "5dd2f605",
   "metadata": {},
   "outputs": [
    {
     "data": {
      "text/plain": [
       "False"
      ]
     },
     "execution_count": 63,
     "metadata": {},
     "output_type": "execute_result"
    }
   ],
   "source": [
    "bool([])"
   ]
  },
  {
   "cell_type": "code",
   "execution_count": 66,
   "id": "dc3d3511",
   "metadata": {},
   "outputs": [
    {
     "data": {
      "text/plain": [
       "False"
      ]
     },
     "execution_count": 66,
     "metadata": {},
     "output_type": "execute_result"
    }
   ],
   "source": [
    "bool()"
   ]
  },
  {
   "cell_type": "code",
   "execution_count": 64,
   "id": "ba75275d",
   "metadata": {},
   "outputs": [
    {
     "data": {
      "text/plain": [
       "True"
      ]
     },
     "execution_count": 64,
     "metadata": {},
     "output_type": "execute_result"
    }
   ],
   "source": [
    "bool([5])"
   ]
  },
  {
   "cell_type": "code",
   "execution_count": 67,
   "id": "3eaaf0fa",
   "metadata": {},
   "outputs": [
    {
     "data": {
      "text/plain": [
       "True"
      ]
     },
     "execution_count": 67,
     "metadata": {},
     "output_type": "execute_result"
    }
   ],
   "source": [
    "bool([\"\"])"
   ]
  },
  {
   "cell_type": "code",
   "execution_count": 68,
   "id": "b78a69b4",
   "metadata": {},
   "outputs": [
    {
     "data": {
      "text/plain": [
       "bool"
      ]
     },
     "execution_count": 68,
     "metadata": {},
     "output_type": "execute_result"
    }
   ],
   "source": [
    "bool"
   ]
  },
  {
   "cell_type": "code",
   "execution_count": 70,
   "id": "96930615",
   "metadata": {},
   "outputs": [
    {
     "data": {
      "text/plain": [
       "0"
      ]
     },
     "execution_count": 70,
     "metadata": {},
     "output_type": "execute_result"
    }
   ],
   "source": [
    "0 and None and 1"
   ]
  },
  {
   "cell_type": "code",
   "execution_count": 71,
   "id": "21a4fcdf",
   "metadata": {},
   "outputs": [
    {
     "data": {
      "text/plain": [
       "False"
      ]
     },
     "execution_count": 71,
     "metadata": {},
     "output_type": "execute_result"
    }
   ],
   "source": [
    "bool(None)"
   ]
  },
  {
   "cell_type": "code",
   "execution_count": 72,
   "id": "da9d4c66",
   "metadata": {},
   "outputs": [
    {
     "data": {
      "text/plain": [
       "False"
      ]
     },
     "execution_count": 72,
     "metadata": {},
     "output_type": "execute_result"
    }
   ],
   "source": [
    "bool(\"\")"
   ]
  },
  {
   "cell_type": "code",
   "execution_count": 75,
   "id": "59872e81",
   "metadata": {},
   "outputs": [
    {
     "data": {
      "text/plain": [
       "False"
      ]
     },
     "execution_count": 75,
     "metadata": {},
     "output_type": "execute_result"
    }
   ],
   "source": [
    "bool(not 1)"
   ]
  },
  {
   "cell_type": "code",
   "execution_count": 80,
   "id": "099d3588",
   "metadata": {},
   "outputs": [
    {
     "name": "stdout",
     "output_type": "stream",
     "text": [
      "sasdasdsda\badsadsa\tsdsadasd\n",
      "d\n"
     ]
    }
   ],
   "source": [
    "print('sasdasdsda\\badsadsa\\tsdsadasd\\nd')"
   ]
  },
  {
   "cell_type": "code",
   "execution_count": 94,
   "id": "0a725efe",
   "metadata": {},
   "outputs": [
    {
     "name": "stdout",
     "output_type": "stream",
     "text": [
      "Clarusway, Clarusway, Clarusway,\n",
      "\tClarusway, Clarusway, Clarusway,\n",
      "\t\tClarusway, Clarusway, Clarusway\n"
     ]
    }
   ],
   "source": [
    "text = \"Clarusway, Clarusway, Clarusway,\\n\\tClarusway, Clarusway, Clarusway,\\n\\t\\tClarusway, Clarusway, Clarusway\"\n",
    "print(text)"
   ]
  },
  {
   "cell_type": "code",
   "execution_count": null,
   "id": "3dcf9130",
   "metadata": {},
   "outputs": [],
   "source": []
  }
 ],
 "metadata": {
  "kernelspec": {
   "display_name": "Python 3 (ipykernel)",
   "language": "python",
   "name": "python3"
  },
  "language_info": {
   "codemirror_mode": {
    "name": "ipython",
    "version": 3
   },
   "file_extension": ".py",
   "mimetype": "text/x-python",
   "name": "python",
   "nbconvert_exporter": "python",
   "pygments_lexer": "ipython3",
   "version": "3.9.12"
  }
 },
 "nbformat": 4,
 "nbformat_minor": 5
}
