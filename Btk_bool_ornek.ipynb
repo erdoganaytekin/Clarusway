{
 "cells": [
  {
   "cell_type": "code",
   "execution_count": 104,
   "id": "fef17cf0",
   "metadata": {},
   "outputs": [
    {
     "name": "stdout",
     "output_type": "stream",
     "text": [
      "Cigarette addict age>75: True\n",
      "Chronic: False\n",
      "Immune: True\n"
     ]
    }
   ],
   "source": [
    "age = input('Cigarette addict age>75: ')\n",
    "chronic = input('Chronic: ')\n",
    "immune = input('Immune: ')\n",
    "result = (chronic and immune)"
   ]
  },
  {
   "cell_type": "code",
   "execution_count": 105,
   "id": "ec8748b9",
   "metadata": {},
   "outputs": [
    {
     "name": "stdout",
     "output_type": "stream",
     "text": [
      "True\n"
     ]
    }
   ],
   "source": [
    "print(result)"
   ]
  },
  {
   "cell_type": "code",
   "execution_count": 70,
   "id": "8c3bee73",
   "metadata": {
    "scrolled": true
   },
   "outputs": [
    {
     "name": "stdout",
     "output_type": "stream",
     "text": [
      "Risk: there is not a risk of death\n"
     ]
    }
   ],
   "source": [
    "if result == str(True):\n",
    "    print(\"Risk: there is a risk of death\")\n",
    "else:\n",
    "        print(\"Risk: there is not a risk of death\")"
   ]
  },
  {
   "cell_type": "code",
   "execution_count": null,
   "id": "634e858d",
   "metadata": {},
   "outputs": [],
   "source": [
    "def str2bool(v):\n",
    "    return v.lower() in (\"\")"
   ]
  },
  {
   "cell_type": "code",
   "execution_count": 15,
   "id": "6223c0fd",
   "metadata": {},
   "outputs": [
    {
     "name": "stdout",
     "output_type": "stream",
     "text": [
      "yasiniz: 44\n",
      "kroniklik: True\n",
      "bagisiklik: True\n",
      "Risk: there is a risk of death: True\n"
     ]
    }
   ],
   "source": [
    "age = int(input('yasiniz: '))\n",
    "chronic = input('kroniklik: ')\n",
    "immune = input('bagisiklik: ')\n",
    "\n",
    "# result = (age>75) and (chronic == Yes) and (immune == Yes)\n",
    "# result1=(age>75)\n",
    "# result2=(chronic == 'True')\n",
    "# result3=(immune == 'True')\n",
    "result = (age>75) or (chronic == 'True') and (immune == 'True')\n",
    "\n",
    "print(f'Risk: there is a risk of death: {result}')\n",
    "# print(f'Risk: there is a risk of death: {result2}')\n",
    "# print(f'Risk: there is a risk of death: {result3}')\n",
    "\n"
   ]
  },
  {
   "cell_type": "code",
   "execution_count": 42,
   "id": "ede35d41",
   "metadata": {},
   "outputs": [
    {
     "name": "stdout",
     "output_type": "stream",
     "text": [
      "fakat 20'den büyük değil!\n"
     ]
    }
   ],
   "source": [
    "x = 19\n",
    "\n",
    "if x > 20:\n",
    "    print(\"ve 20'den de büyük!\")\n",
    "else:\n",
    "    print(\"fakat 20'den büyük değil!\")"
   ]
  },
  {
   "cell_type": "code",
   "execution_count": 90,
   "id": "e2e62f46",
   "metadata": {},
   "outputs": [],
   "source": [
    "result = (False) or ((True) and (True))"
   ]
  },
  {
   "cell_type": "code",
   "execution_count": 91,
   "id": "10287fe2",
   "metadata": {},
   "outputs": [
    {
     "data": {
      "text/plain": [
       "True"
      ]
     },
     "execution_count": 91,
     "metadata": {},
     "output_type": "execute_result"
    }
   ],
   "source": [
    "result"
   ]
  },
  {
   "cell_type": "code",
   "execution_count": 107,
   "id": "cbb3c58e",
   "metadata": {},
   "outputs": [
    {
     "name": "stdout",
     "output_type": "stream",
     "text": [
      "ageFalse\n",
      "chronicTrue\n",
      "immuneTrue\n"
     ]
    },
    {
     "data": {
      "text/plain": [
       "'False'"
      ]
     },
     "execution_count": 107,
     "metadata": {},
     "output_type": "execute_result"
    }
   ],
   "source": [
    "age = input('age')\n",
    "chronic = input('chronic')\n",
    "immune = input('immune')\n",
    "result = age or chronic and immune\n",
    "result"
   ]
  },
  {
   "cell_type": "code",
   "execution_count": 1,
   "id": "35d2d498",
   "metadata": {},
   "outputs": [
    {
     "name": "stdout",
     "output_type": "stream",
     "text": [
      "13\n"
     ]
    }
   ],
   "source": [
    "print(1+4*3)"
   ]
  },
  {
   "cell_type": "code",
   "execution_count": 2,
   "id": "4fba162b",
   "metadata": {},
   "outputs": [
    {
     "name": "stdout",
     "output_type": "stream",
     "text": [
      "4\n"
     ]
    }
   ],
   "source": [
    "print( (3**2)//2 )\n"
   ]
  },
  {
   "cell_type": "code",
   "execution_count": 5,
   "id": "82982f5a",
   "metadata": {},
   "outputs": [
    {
     "data": {
      "text/plain": [
       "True"
      ]
     },
     "execution_count": 5,
     "metadata": {},
     "output_type": "execute_result"
    }
   ],
   "source": [
    "5!=0"
   ]
  },
  {
   "cell_type": "code",
   "execution_count": 6,
   "id": "6409d179",
   "metadata": {},
   "outputs": [
    {
     "ename": "SyntaxError",
     "evalue": "invalid character '‘' (U+2018) (2408125899.py, line 1)",
     "output_type": "error",
     "traceback": [
      "\u001b[0;36m  Input \u001b[0;32mIn [6]\u001b[0;36m\u001b[0m\n\u001b[0;31m    print(‘hello-‘ + ‘how-are-you’)\u001b[0m\n\u001b[0m          ^\u001b[0m\n\u001b[0;31mSyntaxError\u001b[0m\u001b[0;31m:\u001b[0m invalid character '‘' (U+2018)\n"
     ]
    }
   ],
   "source": [
    "print(‘hello-‘ + ‘how-are-you’)"
   ]
  },
  {
   "cell_type": "code",
   "execution_count": 7,
   "id": "71ce9d0f",
   "metadata": {},
   "outputs": [
    {
     "ename": "SyntaxError",
     "evalue": "invalid character '‘' (U+2018) (4077341402.py, line 1)",
     "output_type": "error",
     "traceback": [
      "\u001b[0;36m  Input \u001b[0;32mIn [7]\u001b[0;36m\u001b[0m\n\u001b[0;31m    print(‘hello’ + ‘-‘ + ‘how’ + ‘-‘ + ‘are’ + ‘you’)\u001b[0m\n\u001b[0m          ^\u001b[0m\n\u001b[0;31mSyntaxError\u001b[0m\u001b[0;31m:\u001b[0m invalid character '‘' (U+2018)\n"
     ]
    }
   ],
   "source": [
    "print(‘hello’ + ‘-‘ + ‘how’ + ‘-‘ + ‘are’ + ‘you’)"
   ]
  },
  {
   "cell_type": "code",
   "execution_count": 8,
   "id": "46db2463",
   "metadata": {},
   "outputs": [
    {
     "ename": "SyntaxError",
     "evalue": "invalid character '‘' (U+2018) (2237059898.py, line 1)",
     "output_type": "error",
     "traceback": [
      "\u001b[0;36m  Input \u001b[0;32mIn [8]\u001b[0;36m\u001b[0m\n\u001b[0;31m    print(‘hello’, ‘how’, ‘are-’, ‘you’ + ‘-‘ * 4)\u001b[0m\n\u001b[0m          ^\u001b[0m\n\u001b[0;31mSyntaxError\u001b[0m\u001b[0;31m:\u001b[0m invalid character '‘' (U+2018)\n"
     ]
    }
   ],
   "source": [
    "print(‘hello’, ‘how’, ‘are-’, ‘you’ + ‘-‘ * 4) "
   ]
  },
  {
   "cell_type": "code",
   "execution_count": 9,
   "id": "b3e8ae60",
   "metadata": {},
   "outputs": [
    {
     "ename": "SyntaxError",
     "evalue": "invalid character '‘' (U+2018) (515616476.py, line 1)",
     "output_type": "error",
     "traceback": [
      "\u001b[0;36m  Input \u001b[0;32mIn [9]\u001b[0;36m\u001b[0m\n\u001b[0;31m    print(‘hello’, ‘-how’, ‘are’, ‘-you’)\u001b[0m\n\u001b[0m          ^\u001b[0m\n\u001b[0;31mSyntaxError\u001b[0m\u001b[0;31m:\u001b[0m invalid character '‘' (U+2018)\n"
     ]
    }
   ],
   "source": [
    "print(‘hello’, ‘-how’, ‘are’, ‘-you’) "
   ]
  },
  {
   "cell_type": "code",
   "execution_count": 14,
   "id": "f0efd6cc",
   "metadata": {},
   "outputs": [
    {
     "name": "stdout",
     "output_type": "stream",
     "text": [
      "sayi: 45\n",
      "sayi 1-100 arasinda mi: True\n"
     ]
    }
   ],
   "source": [
    "# sayi = float(input('sayi: '))\n",
    "# result = (sayi>0) and (sayi<100)\n",
    "# print(f'sayi 1-100 arasinda mi: {result}')"
   ]
  },
  {
   "cell_type": "code",
   "execution_count": 17,
   "id": "a401206e",
   "metadata": {},
   "outputs": [
    {
     "name": "stdout",
     "output_type": "stream",
     "text": [
      "sayi: 10\n",
      "girilen sayi pozitif cift sayi mi: True\n"
     ]
    }
   ],
   "source": [
    "# sayi = int(input('sayi: '))\n",
    "# result = (sayi>0) and (sayi%2==0)\n",
    "# print(f'girilen sayi pozitif cift sayi mi: {result}')"
   ]
  },
  {
   "cell_type": "code",
   "execution_count": 18,
   "id": "6a4fe09e",
   "metadata": {},
   "outputs": [
    {
     "name": "stdout",
     "output_type": "stream",
     "text": [
      "email: email@sadikturan\n",
      "password: abc123\n",
      "uygulamaya giris basarilimi: True\n"
     ]
    }
   ],
   "source": [
    "# email = 'email@sadikturan'\n",
    "# password = 'abc123'\n",
    "\n",
    "# girilenEmail = input('email: ')\n",
    "# girilenPassword = input('password: ')\n",
    "\n",
    "# result = (girilenEmail == email) and (girilenPassword == password)\n",
    "# print(f'uygulamaya giris basarilimi: {result}')"
   ]
  },
  {
   "cell_type": "code",
   "execution_count": 21,
   "id": "14ab3c51",
   "metadata": {},
   "outputs": [
    {
     "name": "stdout",
     "output_type": "stream",
     "text": [
      "a: 50\n",
      "b: 10\n",
      "c: 60\n",
      "a en buyuk sayidir: False\n",
      "b en buyuk sayidir: False\n",
      "c en buyuk sayidir: True\n"
     ]
    }
   ],
   "source": [
    "# a = int(input('a: '))\n",
    "# b = int(input('b: '))\n",
    "# c = int(input('c: '))\n",
    "\n",
    "# result= (a>b) and (a>c)\n",
    "# print(f'a en buyuk sayidir: {result}')\n",
    "\n",
    "# result= (b>a) and (b>c)\n",
    "# print(f'b en buyuk sayidir: {result}')\n",
    "\n",
    "# result= (c>b) and (c>a)\n",
    "# print(f'c en buyuk sayidir: {result}')"
   ]
  },
  {
   "cell_type": "code",
   "execution_count": 26,
   "id": "c3d302ec",
   "metadata": {},
   "outputs": [
    {
     "name": "stdout",
     "output_type": "stream",
     "text": [
      "vize1: 50\n",
      "vize2: 60\n",
      "final: 50\n",
      "ogrenci ortalamasi: 53.0 ve gecme durumu: True\n"
     ]
    }
   ],
   "source": [
    "# vize1 = float(input('vize1: '))\n",
    "# vize2 = float(input('vize2: '))\n",
    "# final = float(input('final: '))\n",
    "\n",
    "# ortalama = ((vize1 + vize2)/2)*0.6 + (final*0.4)\n",
    "# #result = (ortalama>=50) and (final>=50)\n",
    "# result = (ortalama>=50) or (final>=70)\n",
    "\n",
    "# print(f'ogrenci ortalamasi: {ortalama} ve gecme durumu: {result}')"
   ]
  },
  {
   "cell_type": "code",
   "execution_count": 35,
   "id": "29c1c0a8",
   "metadata": {},
   "outputs": [
    {
     "name": "stdout",
     "output_type": "stream",
     "text": [
      "adiniz: nur\n",
      "kilonuz: 65\n",
      "boyunuz: 1.61\n",
      "nur kilo indeksin: 25.076193048107708 ve kilo degerlendirmen zayif: False\n",
      "nur kilo indeksin: 25.076193048107708 ve kilo degerlendirmen normal: False\n",
      "nur kilo indeksin: 25.076193048107708 ve kilo degerlendirmen kilolu: True\n",
      "nur kilo indeksin: 25.076193048107708 ve kilo degerlendirmen obez: False\n"
     ]
    }
   ],
   "source": [
    "name = input('adiniz: ')\n",
    "kg = float(input('kilonuz: '))\n",
    "hg = float(input('boyunuz: '))\n",
    "\n",
    "index = (kg/(hg**2))\n",
    "zayif = (index>=0) and (index<=18.4)\n",
    "normal = (index>18.4) and (index<=24.9)\n",
    "kilolu = (index>24.9) and (index<=29.9)\n",
    "obez = (index>=29.9) and (index<=34.9)\n",
    "\n",
    "\n",
    "print(f'{name} kilo indeksin: {index} ve kilo degerlendirmen zayif: {zayif}')\n",
    "print(f'{name} kilo indeksin: {index} ve kilo degerlendirmen normal: {normal}')\n",
    "print(f'{name} kilo indeksin: {index} ve kilo degerlendirmen kilolu: {kilolu}')\n",
    "print(f'{name} kilo indeksin: {index} ve kilo degerlendirmen obez: {obez}')"
   ]
  },
  {
   "cell_type": "code",
   "execution_count": 1,
   "id": "0ccb5b0c",
   "metadata": {},
   "outputs": [
    {
     "data": {
      "text/plain": [
       "1"
      ]
     },
     "execution_count": 1,
     "metadata": {},
     "output_type": "execute_result"
    }
   ],
   "source": [
    "1"
   ]
  },
  {
   "cell_type": "code",
   "execution_count": 2,
   "id": "66a1728d",
   "metadata": {},
   "outputs": [
    {
     "data": {
      "text/plain": [
       "1"
      ]
     },
     "execution_count": 2,
     "metadata": {},
     "output_type": "execute_result"
    }
   ],
   "source": [
    "(1)"
   ]
  },
  {
   "cell_type": "code",
   "execution_count": 3,
   "id": "9a651190",
   "metadata": {},
   "outputs": [
    {
     "data": {
      "text/plain": [
       "0"
      ]
     },
     "execution_count": 3,
     "metadata": {},
     "output_type": "execute_result"
    }
   ],
   "source": [
    "0"
   ]
  },
  {
   "cell_type": "code",
   "execution_count": 4,
   "id": "37b22c31",
   "metadata": {},
   "outputs": [
    {
     "data": {
      "text/plain": [
       "0"
      ]
     },
     "execution_count": 4,
     "metadata": {},
     "output_type": "execute_result"
    }
   ],
   "source": [
    "(0)"
   ]
  },
  {
   "cell_type": "code",
   "execution_count": 5,
   "id": "f2e71988",
   "metadata": {},
   "outputs": [
    {
     "data": {
      "text/plain": [
       "()"
      ]
     },
     "execution_count": 5,
     "metadata": {},
     "output_type": "execute_result"
    }
   ],
   "source": [
    "()"
   ]
  },
  {
   "cell_type": "code",
   "execution_count": 6,
   "id": "2c429f2d",
   "metadata": {},
   "outputs": [
    {
     "data": {
      "text/plain": [
       "()"
      ]
     },
     "execution_count": 6,
     "metadata": {},
     "output_type": "execute_result"
    }
   ],
   "source": [
    "() and 1"
   ]
  },
  {
   "cell_type": "code",
   "execution_count": 19,
   "id": "30bca18b",
   "metadata": {},
   "outputs": [
    {
     "data": {
      "text/plain": [
       "'yes'"
      ]
     },
     "execution_count": 19,
     "metadata": {},
     "output_type": "execute_result"
    }
   ],
   "source": [
    "str('yes')"
   ]
  },
  {
   "cell_type": "code",
   "execution_count": 20,
   "id": "96ec70f8",
   "metadata": {},
   "outputs": [
    {
     "ename": "NameError",
     "evalue": "name 'yes' is not defined",
     "output_type": "error",
     "traceback": [
      "\u001b[0;31m---------------------------------------------------------------------------\u001b[0m",
      "\u001b[0;31mNameError\u001b[0m                                 Traceback (most recent call last)",
      "Input \u001b[0;32mIn [20]\u001b[0m, in \u001b[0;36m<cell line: 1>\u001b[0;34m()\u001b[0m\n\u001b[0;32m----> 1\u001b[0m \u001b[38;5;28mtype\u001b[39m(\u001b[43myes\u001b[49m)\n",
      "\u001b[0;31mNameError\u001b[0m: name 'yes' is not defined"
     ]
    }
   ],
   "source": [
    "type(yes)"
   ]
  },
  {
   "cell_type": "code",
   "execution_count": 9,
   "id": "d7f8f3ba",
   "metadata": {},
   "outputs": [
    {
     "name": "stdout",
     "output_type": "stream",
     "text": [
      "girTrue\n"
     ]
    }
   ],
   "source": [
    "chronic = input('gir')"
   ]
  },
  {
   "cell_type": "code",
   "execution_count": 6,
   "id": "0c882fbb",
   "metadata": {},
   "outputs": [
    {
     "data": {
      "text/plain": [
       "str"
      ]
     },
     "execution_count": 6,
     "metadata": {},
     "output_type": "execute_result"
    }
   ],
   "source": [
    "type(chronic)"
   ]
  },
  {
   "cell_type": "code",
   "execution_count": 10,
   "id": "f80afe75",
   "metadata": {},
   "outputs": [
    {
     "data": {
      "text/plain": [
       "'True'"
      ]
     },
     "execution_count": 10,
     "metadata": {},
     "output_type": "execute_result"
    }
   ],
   "source": [
    "chronic"
   ]
  },
  {
   "cell_type": "code",
   "execution_count": 18,
   "id": "3636899a",
   "metadata": {},
   "outputs": [
    {
     "name": "stdout",
     "output_type": "stream",
     "text": [
      "yasiniz: 44\n",
      "kroniklik: No\n",
      "bagisiklik: Yes\n",
      "Risk: there is a risk of death: True\n"
     ]
    }
   ],
   "source": [
    "age = int(input('yasiniz: '))\n",
    "chronic = input('kroniklik: ')\n",
    "immune = input('bagisiklik: ')\n",
    "\n",
    "result = (age>75) or (chronic == 'Yes') or (immune == 'Yes')\n",
    "\n",
    "print(f'Risk: there is a risk of death: {result}')"
   ]
  },
  {
   "cell_type": "code",
   "execution_count": null,
   "id": "d40189da",
   "metadata": {},
   "outputs": [],
   "source": []
  }
 ],
 "metadata": {
  "kernelspec": {
   "display_name": "Python 3 (ipykernel)",
   "language": "python",
   "name": "python3"
  },
  "language_info": {
   "codemirror_mode": {
    "name": "ipython",
    "version": 3
   },
   "file_extension": ".py",
   "mimetype": "text/x-python",
   "name": "python",
   "nbconvert_exporter": "python",
   "pygments_lexer": "ipython3",
   "version": "3.9.12"
  }
 },
 "nbformat": 4,
 "nbformat_minor": 5
}
