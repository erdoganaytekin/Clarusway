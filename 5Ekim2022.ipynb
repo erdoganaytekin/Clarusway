{
 "cells": [
  {
   "cell_type": "code",
   "execution_count": 1,
   "id": "b4206ad5",
   "metadata": {},
   "outputs": [
    {
     "name": "stdout",
     "output_type": "stream",
     "text": [
      "Hello World!\n"
     ]
    }
   ],
   "source": [
    "print(\"Hello World!\")"
   ]
  },
  {
   "cell_type": "code",
   "execution_count": 4,
   "id": "097f05c0",
   "metadata": {},
   "outputs": [
    {
     "name": "stdout",
     "output_type": "stream",
     "text": [
      "benim adim Erdogan Izmir Dokuz Eylul \n",
      "universitesi mezunuyum\n",
      "      senin\n"
     ]
    }
   ],
   "source": [
    "print(\"\"\"benim adim Erdogan Izmir Dokuz Eylul \n",
    "universitesi mezunuyum\n",
    "      senin\"\"\")"
   ]
  },
  {
   "cell_type": "code",
   "execution_count": 5,
   "id": "45e3a8f5",
   "metadata": {},
   "outputs": [
    {
     "name": "stdout",
     "output_type": "stream",
     "text": [
      "Hello world\n"
     ]
    }
   ],
   "source": [
    "print(\"\"\"Hello world\"\"\")"
   ]
  },
  {
   "cell_type": "code",
   "execution_count": 6,
   "id": "3fbc64a2",
   "metadata": {},
   "outputs": [
    {
     "name": "stdout",
     "output_type": "stream",
     "text": [
      "1223344**-=+\n"
     ]
    }
   ],
   "source": [
    "print(\"\"\"1223344**-=+\"\"\")"
   ]
  },
  {
   "cell_type": "code",
   "execution_count": 8,
   "id": "07c9d1a8",
   "metadata": {},
   "outputs": [
    {
     "data": {
      "text/plain": [
       "'Erdogan  aytek'"
      ]
     },
     "execution_count": 8,
     "metadata": {},
     "output_type": "execute_result"
    }
   ],
   "source": [
    "\"\"\"Erdogan  aytek\"\"\""
   ]
  },
  {
   "cell_type": "code",
   "execution_count": 9,
   "id": "ff79ba3a",
   "metadata": {},
   "outputs": [
    {
     "name": "stdout",
     "output_type": "stream",
     "text": [
      "Ahmet beyin kedisi\n"
     ]
    }
   ],
   "source": [
    "print(\"Ahmet beyin kedisi\")"
   ]
  },
  {
   "cell_type": "code",
   "execution_count": 15,
   "id": "1e25796a",
   "metadata": {},
   "outputs": [
    {
     "name": "stdout",
     "output_type": "stream",
     "text": [
      "8.14\n",
      "3.145\n",
      "8.14\n"
     ]
    }
   ],
   "source": [
    "print(3.14+5)\n",
    "print('3.14'+'5')\n",
    "print(float('3.14')+int('5'))"
   ]
  },
  {
   "cell_type": "code",
   "execution_count": 16,
   "id": "dc7b0233",
   "metadata": {},
   "outputs": [
    {
     "name": "stdout",
     "output_type": "stream",
     "text": [
      "'wee\"\n"
     ]
    }
   ],
   "source": [
    "print(''''wee\"''')"
   ]
  },
  {
   "cell_type": "code",
   "execution_count": 17,
   "id": "6e7f7e3d",
   "metadata": {},
   "outputs": [
    {
     "name": "stdout",
     "output_type": "stream",
     "text": [
      "10.5\n"
     ]
    }
   ],
   "source": [
    "print(\"10.5\")"
   ]
  },
  {
   "cell_type": "code",
   "execution_count": 18,
   "id": "f7e554a7",
   "metadata": {},
   "outputs": [
    {
     "name": "stdout",
     "output_type": "stream",
     "text": [
      "first line\n",
      "\n",
      "third line\n"
     ]
    }
   ],
   "source": [
    "print('first line')\n",
    "print()\n",
    "print('''third line''')"
   ]
  },
  {
   "cell_type": "code",
   "execution_count": 31,
   "id": "515797fe",
   "metadata": {},
   "outputs": [
    {
     "name": "stdout",
     "output_type": "stream",
     "text": [
      "first line \n",
      " Erdogan\n",
      "\n",
      "third line\n"
     ]
    }
   ],
   "source": [
    "print('first line \\n Erdogan')\n",
    "print()\n",
    "print('''third line''')"
   ]
  },
  {
   "cell_type": "code",
   "execution_count": 33,
   "id": "25d0c02f",
   "metadata": {},
   "outputs": [
    {
     "name": "stdout",
     "output_type": "stream",
     "text": [
      "\n"
     ]
    }
   ],
   "source": [
    "print(\"\"\"\"\"\")"
   ]
  },
  {
   "cell_type": "code",
   "execution_count": 34,
   "id": "e7548662",
   "metadata": {
    "scrolled": true
   },
   "outputs": [
    {
     "name": "stdout",
     "output_type": "stream",
     "text": [
      "Bize\n",
      " Her\n",
      " Yer Trabzon\n"
     ]
    }
   ],
   "source": [
    "print(\"Bize\\n Her\\n Yer Trabzon\")"
   ]
  },
  {
   "cell_type": "code",
   "execution_count": 40,
   "id": "7ccc9024",
   "metadata": {},
   "outputs": [
    {
     "name": "stdout",
     "output_type": "stream",
     "text": [
      "Bize \n",
      "Her \n",
      "Yer \n",
      "Trabzon\n"
     ]
    }
   ],
   "source": [
    "print(\"Bize \\nHer \\nYer \\nTrabzon\")"
   ]
  },
  {
   "cell_type": "code",
   "execution_count": 60,
   "id": "68b5c8e9",
   "metadata": {},
   "outputs": [
    {
     "name": "stdout",
     "output_type": "stream",
     "text": [
      "1 2 3 4 5 6 7 8 9 10 11 12 13 14 15 16 17 18 19 20 21 22 23 24 25 26 27 28 29 30 31 32 33 34 35 36 37 38 39 40 41 42 43 44 45 46 47 48 49 50 51 52 53 54 55 56 57 58 59 60 61 62 63 64 65 66 67 68 69 70 71 72 73 74 75 76 77 78 79 "
     ]
    }
   ],
   "source": [
    "for i in range(1,80):\n",
    " print(i,end=\" \")  # yan yana yazdirdim"
   ]
  },
  {
   "cell_type": "code",
   "execution_count": 66,
   "id": "7781305a",
   "metadata": {},
   "outputs": [
    {
     "data": {
      "text/plain": [
       "8"
      ]
     },
     "execution_count": 66,
     "metadata": {},
     "output_type": "execute_result"
    }
   ],
   "source": [
    "3 + 5  # 3 ile 5 topla"
   ]
  },
  {
   "cell_type": "code",
   "execution_count": 67,
   "id": "0b64c7ee",
   "metadata": {},
   "outputs": [
    {
     "data": {
      "text/plain": [
       "2"
      ]
     },
     "execution_count": 67,
     "metadata": {},
     "output_type": "execute_result"
    }
   ],
   "source": [
    "4-2"
   ]
  },
  {
   "cell_type": "code",
   "execution_count": 68,
   "id": "dc726914",
   "metadata": {},
   "outputs": [
    {
     "data": {
      "text/plain": [
       "30"
      ]
     },
     "execution_count": 68,
     "metadata": {},
     "output_type": "execute_result"
    }
   ],
   "source": [
    "5*6"
   ]
  },
  {
   "cell_type": "code",
   "execution_count": 69,
   "id": "f54a7c64",
   "metadata": {},
   "outputs": [],
   "source": [
    "# \"ali\"\n",
    "# \"veli\"\n",
    "# \"deli\""
   ]
  },
  {
   "cell_type": "code",
   "execution_count": 70,
   "id": "2ca80c2d",
   "metadata": {},
   "outputs": [
    {
     "name": "stdout",
     "output_type": "stream",
     "text": [
      "30\n"
     ]
    }
   ],
   "source": [
    "my = 33\n",
    "you = 30\n",
    "my = you\n",
    "print(my)"
   ]
  },
  {
   "cell_type": "code",
   "execution_count": 71,
   "id": "afec3b88",
   "metadata": {},
   "outputs": [
    {
     "name": "stdout",
     "output_type": "stream",
     "text": [
      "cd\n"
     ]
    }
   ],
   "source": [
    "print(\"abcd\"[2:])"
   ]
  },
  {
   "cell_type": "code",
   "execution_count": 73,
   "id": "b6019157",
   "metadata": {},
   "outputs": [
    {
     "ename": "SyntaxError",
     "evalue": "invalid syntax (3149156217.py, line 1)",
     "output_type": "error",
     "traceback": [
      "\u001b[0;36m  Input \u001b[0;32mIn [73]\u001b[0;36m\u001b[0m\n\u001b[0;31m    print(\"new\", ,\"line\")\u001b[0m\n\u001b[0m                 ^\u001b[0m\n\u001b[0;31mSyntaxError\u001b[0m\u001b[0;31m:\u001b[0m invalid syntax\n"
     ]
    }
   ],
   "source": [
    "print(\"new\", ,\"line\")"
   ]
  },
  {
   "cell_type": "code",
   "execution_count": 76,
   "id": "0a95a4b7",
   "metadata": {},
   "outputs": [
    {
     "name": "stdout",
     "output_type": "stream",
     "text": [
      "newlineend 3\n"
     ]
    }
   ],
   "source": [
    "print(\"new\" \"line\" \"end\", 3)"
   ]
  },
  {
   "cell_type": "code",
   "execution_count": null,
   "id": "557059a4",
   "metadata": {},
   "outputs": [],
   "source": []
  }
 ],
 "metadata": {
  "kernelspec": {
   "display_name": "Python 3 (ipykernel)",
   "language": "python",
   "name": "python3"
  },
  "language_info": {
   "codemirror_mode": {
    "name": "ipython",
    "version": 3
   },
   "file_extension": ".py",
   "mimetype": "text/x-python",
   "name": "python",
   "nbconvert_exporter": "python",
   "pygments_lexer": "ipython3",
   "version": "3.9.12"
  }
 },
 "nbformat": 4,
 "nbformat_minor": 5
}
