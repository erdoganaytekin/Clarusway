{
 "cells": [
  {
   "cell_type": "code",
   "execution_count": 1,
   "id": "51c12bc6",
   "metadata": {},
   "outputs": [],
   "source": [
    "# \"ali\"\n",
    "# \"veli\"\n",
    "# \"deli\""
   ]
  },
  {
   "cell_type": "code",
   "execution_count": 2,
   "id": "acd1a9f8",
   "metadata": {},
   "outputs": [],
   "source": [
    "a = \"ali\"\n"
   ]
  },
  {
   "cell_type": "code",
   "execution_count": 5,
   "id": "78a10e81",
   "metadata": {},
   "outputs": [
    {
     "data": {
      "text/plain": [
       "''"
      ]
     },
     "execution_count": 5,
     "metadata": {},
     "output_type": "execute_result"
    }
   ],
   "source": [
    "x=''\n",
    "\n",
    "x"
   ]
  },
  {
   "cell_type": "code",
   "execution_count": 6,
   "id": "83f5d42e",
   "metadata": {},
   "outputs": [
    {
     "data": {
      "text/plain": [
       "5"
      ]
     },
     "execution_count": 6,
     "metadata": {},
     "output_type": "execute_result"
    }
   ],
   "source": [
    "l=5\n",
    "l"
   ]
  },
  {
   "cell_type": "code",
   "execution_count": 7,
   "id": "5a19765c",
   "metadata": {},
   "outputs": [
    {
     "ename": "SyntaxError",
     "evalue": "invalid syntax (1131115079.py, line 1)",
     "output_type": "error",
     "traceback": [
      "\u001b[0;36m  Input \u001b[0;32mIn [7]\u001b[0;36m\u001b[0m\n\u001b[0;31m    or = \"alivelideli\"\u001b[0m\n\u001b[0m    ^\u001b[0m\n\u001b[0;31mSyntaxError\u001b[0m\u001b[0;31m:\u001b[0m invalid syntax\n"
     ]
    }
   ],
   "source": [
    "or = \"alivelideli\"\n",
    "or"
   ]
  },
  {
   "cell_type": "code",
   "execution_count": 9,
   "id": "aaaa734d",
   "metadata": {},
   "outputs": [
    {
     "data": {
      "text/plain": [
       "54"
      ]
     },
     "execution_count": 9,
     "metadata": {},
     "output_type": "execute_result"
    }
   ],
   "source": [
    "if_or_else = 54\n",
    "54"
   ]
  },
  {
   "cell_type": "code",
   "execution_count": 10,
   "id": "864ee5bd",
   "metadata": {},
   "outputs": [
    {
     "data": {
      "text/plain": [
       "'ali'"
      ]
     },
     "execution_count": 10,
     "metadata": {},
     "output_type": "execute_result"
    }
   ],
   "source": [
    "class_ = \"ali\"\n",
    "class_"
   ]
  },
  {
   "cell_type": "code",
   "execution_count": 11,
   "id": "e42540ec",
   "metadata": {},
   "outputs": [
    {
     "ename": "SyntaxError",
     "evalue": "invalid syntax (3964141489.py, line 1)",
     "output_type": "error",
     "traceback": [
      "\u001b[0;36m  Input \u001b[0;32mIn [11]\u001b[0;36m\u001b[0m\n\u001b[0;31m    _al?=43\u001b[0m\n\u001b[0m       ^\u001b[0m\n\u001b[0;31mSyntaxError\u001b[0m\u001b[0;31m:\u001b[0m invalid syntax\n"
     ]
    }
   ],
   "source": [
    "_al?=43\n",
    "_al?"
   ]
  },
  {
   "cell_type": "code",
   "execution_count": 12,
   "id": "2586169e",
   "metadata": {},
   "outputs": [
    {
     "data": {
      "text/plain": [
       "45"
      ]
     },
     "execution_count": 12,
     "metadata": {},
     "output_type": "execute_result"
    }
   ],
   "source": [
    "students = 45\n",
    "s=students\n",
    "s"
   ]
  },
  {
   "cell_type": "code",
   "execution_count": 13,
   "id": "02b791a5",
   "metadata": {},
   "outputs": [
    {
     "data": {
      "text/plain": [
       "95"
      ]
     },
     "execution_count": 13,
     "metadata": {},
     "output_type": "execute_result"
    }
   ],
   "source": [
    "math_score = 95\n",
    "x = math_score\n",
    "x"
   ]
  },
  {
   "cell_type": "code",
   "execution_count": 15,
   "id": "8c7ba5a5",
   "metadata": {},
   "outputs": [
    {
     "name": "stdout",
     "output_type": "stream",
     "text": [
      "planetprice\n"
     ]
    }
   ],
   "source": [
    "planet = 'jupyter'\n",
    "price = 140\n",
    "print('planet'+'price')"
   ]
  },
  {
   "cell_type": "code",
   "execution_count": 16,
   "id": "b0e51405",
   "metadata": {},
   "outputs": [
    {
     "data": {
      "text/plain": [
       "420"
      ]
     },
     "execution_count": 16,
     "metadata": {},
     "output_type": "execute_result"
    }
   ],
   "source": [
    "price*3"
   ]
  },
  {
   "cell_type": "code",
   "execution_count": 17,
   "id": "48cdf4ef",
   "metadata": {},
   "outputs": [
    {
     "data": {
      "text/plain": [
       "46"
      ]
     },
     "execution_count": 17,
     "metadata": {},
     "output_type": "execute_result"
    }
   ],
   "source": [
    "price//3"
   ]
  },
  {
   "cell_type": "code",
   "execution_count": 20,
   "id": "ee18be89",
   "metadata": {},
   "outputs": [
    {
     "name": "stdout",
     "output_type": "stream",
     "text": [
      "same\n",
      "same\n",
      "same\n"
     ]
    }
   ],
   "source": [
    "x =y =z= \"same\"\n",
    "print(x)\n",
    "print(y)\n",
    "print(z)"
   ]
  },
  {
   "cell_type": "code",
   "execution_count": 25,
   "id": "f435eaa6",
   "metadata": {},
   "outputs": [
    {
     "name": "stdout",
     "output_type": "stream",
     "text": [
      "ali\n"
     ]
    }
   ],
   "source": [
    "a = b = c = 'ali'\n",
    "print(a)\n"
   ]
  },
  {
   "cell_type": "code",
   "execution_count": 30,
   "id": "8a2862b1",
   "metadata": {},
   "outputs": [
    {
     "name": "stdout",
     "output_type": "stream",
     "text": [
      "january, march, may, july, august, october, december 31\n",
      "february 28\n",
      "april, june, september, novemver 30\n"
     ]
    }
   ],
   "source": [
    "a = january = march = may = july = august = october = december = 31\n",
    "b = february = 28\n",
    "c = april = june = september = novemver = 30\n",
    "print('january, march, may, july, august, october, december',a)\n",
    "print('february',b)\n",
    "print('april, june, september, novemver',c)"
   ]
  },
  {
   "cell_type": "code",
   "execution_count": 32,
   "id": "10cc3483",
   "metadata": {},
   "outputs": [
    {
     "name": "stdout",
     "output_type": "stream",
     "text": [
      "31 28 31 30 31 30 31 31 30 31 30 31\n"
     ]
    }
   ],
   "source": [
    "january = march = may = july = august = october = december = 31\n",
    "february = 28\n",
    "april = june = september = november = 30\n",
    "\n",
    "print(january, february, march, april, may, june ,july, august, september, october, november, december)"
   ]
  },
  {
   "cell_type": "code",
   "execution_count": 35,
   "id": "058ceace",
   "metadata": {},
   "outputs": [],
   "source": [
    "a = 34\n",
    "b = 43\n",
    "c = None\n",
    "d = 61"
   ]
  },
  {
   "cell_type": "code",
   "execution_count": 36,
   "id": "fe077934",
   "metadata": {},
   "outputs": [
    {
     "name": "stdout",
     "output_type": "stream",
     "text": [
      "erdem\n"
     ]
    }
   ],
   "source": [
    "rgt = 'erdem'\n",
    "print(rgt)"
   ]
  },
  {
   "cell_type": "code",
   "execution_count": 38,
   "id": "8c10cca3",
   "metadata": {},
   "outputs": [
    {
     "name": "stdout",
     "output_type": "stream",
     "text": [
      "33 55 33\n"
     ]
    }
   ],
   "source": [
    "a = 11\n",
    "b = 22\n",
    "c = 44\n",
    "\n",
    "a = 33\n",
    "b = 55\n",
    "c = a\n",
    "print(a,b,c)"
   ]
  },
  {
   "cell_type": "code",
   "execution_count": 41,
   "id": "395e940b",
   "metadata": {},
   "outputs": [
    {
     "name": "stdout",
     "output_type": "stream",
     "text": [
      "2\n",
      "3\n",
      "Hello\n"
     ]
    }
   ],
   "source": [
    "a,b,c = 2,3,'Hello'\n",
    "print(a)\n",
    "print(b)\n",
    "print(c)"
   ]
  },
  {
   "cell_type": "code",
   "execution_count": 42,
   "id": "9d690a5e",
   "metadata": {},
   "outputs": [
    {
     "data": {
      "text/plain": [
       "str"
      ]
     },
     "execution_count": 42,
     "metadata": {},
     "output_type": "execute_result"
    }
   ],
   "source": [
    "type(\"alivelideli\")"
   ]
  },
  {
   "cell_type": "code",
   "execution_count": 50,
   "id": "08188165",
   "metadata": {},
   "outputs": [
    {
     "data": {
      "text/plain": [
       "bool"
      ]
     },
     "execution_count": 50,
     "metadata": {},
     "output_type": "execute_result"
    }
   ],
   "source": [
    "type(43)\n",
    "type(0.61)\n",
    "type(True)"
   ]
  },
  {
   "cell_type": "code",
   "execution_count": 44,
   "id": "81ca8201",
   "metadata": {},
   "outputs": [
    {
     "data": {
      "text/plain": [
       "float"
      ]
     },
     "execution_count": 44,
     "metadata": {},
     "output_type": "execute_result"
    }
   ],
   "source": [
    "type(0.61)"
   ]
  },
  {
   "cell_type": "code",
   "execution_count": 45,
   "id": "012af8be",
   "metadata": {},
   "outputs": [
    {
     "data": {
      "text/plain": [
       "bool"
      ]
     },
     "execution_count": 45,
     "metadata": {},
     "output_type": "execute_result"
    }
   ],
   "source": [
    "type(True)"
   ]
  },
  {
   "cell_type": "code",
   "execution_count": 46,
   "id": "c23bec23",
   "metadata": {},
   "outputs": [
    {
     "data": {
      "text/plain": [
       "str"
      ]
     },
     "execution_count": 46,
     "metadata": {},
     "output_type": "execute_result"
    }
   ],
   "source": [
    "type(\"ali, veli, deli\")"
   ]
  },
  {
   "cell_type": "code",
   "execution_count": 47,
   "id": "59457429",
   "metadata": {},
   "outputs": [
    {
     "data": {
      "text/plain": [
       "int"
      ]
     },
     "execution_count": 47,
     "metadata": {},
     "output_type": "execute_result"
    }
   ],
   "source": [
    "type(a)"
   ]
  },
  {
   "cell_type": "code",
   "execution_count": 51,
   "id": "73e489a1",
   "metadata": {},
   "outputs": [
    {
     "name": "stdout",
     "output_type": "stream",
     "text": [
      "<class 'str'> <class 'str'>\n"
     ]
    }
   ],
   "source": [
    "print(str,str)"
   ]
  },
  {
   "cell_type": "code",
   "execution_count": 52,
   "id": "f751370c",
   "metadata": {},
   "outputs": [
    {
     "data": {
      "text/plain": [
       "10.5"
      ]
     },
     "execution_count": 52,
     "metadata": {},
     "output_type": "execute_result"
    }
   ],
   "source": [
    "10.5\n"
   ]
  },
  {
   "cell_type": "code",
   "execution_count": 53,
   "id": "41c5bd72",
   "metadata": {},
   "outputs": [
    {
     "data": {
      "text/plain": [
       "float"
      ]
     },
     "execution_count": 53,
     "metadata": {},
     "output_type": "execute_result"
    }
   ],
   "source": [
    "type(10.5)"
   ]
  },
  {
   "cell_type": "code",
   "execution_count": 58,
   "id": "0bcc3e18",
   "metadata": {},
   "outputs": [
    {
     "data": {
      "text/plain": [
       "True"
      ]
     },
     "execution_count": 58,
     "metadata": {},
     "output_type": "execute_result"
    }
   ],
   "source": [
    "10==10.0"
   ]
  },
  {
   "cell_type": "code",
   "execution_count": 62,
   "id": "59f29fab",
   "metadata": {},
   "outputs": [
    {
     "data": {
      "text/plain": [
       "'45'"
      ]
     },
     "execution_count": 62,
     "metadata": {},
     "output_type": "execute_result"
    }
   ],
   "source": [
    "str(45)"
   ]
  },
  {
   "cell_type": "code",
   "execution_count": 64,
   "id": "fc968f75",
   "metadata": {},
   "outputs": [
    {
     "data": {
      "text/plain": [
       "65"
      ]
     },
     "execution_count": 64,
     "metadata": {},
     "output_type": "execute_result"
    }
   ],
   "source": [
    "int(65)"
   ]
  },
  {
   "cell_type": "code",
   "execution_count": 65,
   "id": "eaf0550c",
   "metadata": {},
   "outputs": [
    {
     "data": {
      "text/plain": [
       "43.0"
      ]
     },
     "execution_count": 65,
     "metadata": {},
     "output_type": "execute_result"
    }
   ],
   "source": [
    "float(43)"
   ]
  },
  {
   "cell_type": "code",
   "execution_count": 66,
   "id": "78be6957",
   "metadata": {},
   "outputs": [
    {
     "ename": "NameError",
     "evalue": "name 'erdem' is not defined",
     "output_type": "error",
     "traceback": [
      "\u001b[0;31m---------------------------------------------------------------------------\u001b[0m",
      "\u001b[0;31mNameError\u001b[0m                                 Traceback (most recent call last)",
      "Input \u001b[0;32mIn [66]\u001b[0m, in \u001b[0;36m<cell line: 1>\u001b[0;34m()\u001b[0m\n\u001b[0;32m----> 1\u001b[0m \u001b[38;5;28mfloat\u001b[39m(\u001b[43merdem\u001b[49m)\n",
      "\u001b[0;31mNameError\u001b[0m: name 'erdem' is not defined"
     ]
    }
   ],
   "source": [
    "float(erdem)"
   ]
  },
  {
   "cell_type": "code",
   "execution_count": 68,
   "id": "03396d89",
   "metadata": {},
   "outputs": [
    {
     "data": {
      "text/plain": [
       "10"
      ]
     },
     "execution_count": 68,
     "metadata": {},
     "output_type": "execute_result"
    }
   ],
   "source": [
    "int(10)"
   ]
  },
  {
   "cell_type": "code",
   "execution_count": 70,
   "id": "dda70fe9",
   "metadata": {},
   "outputs": [
    {
     "data": {
      "text/plain": [
       "int"
      ]
     },
     "execution_count": 70,
     "metadata": {},
     "output_type": "execute_result"
    }
   ],
   "source": [
    "a = int('11')\n",
    "type(a)"
   ]
  },
  {
   "cell_type": "code",
   "execution_count": 71,
   "id": "6993c3ba",
   "metadata": {},
   "outputs": [
    {
     "ename": "ValueError",
     "evalue": "invalid literal for int() with base 10: 'onbir'",
     "output_type": "error",
     "traceback": [
      "\u001b[0;31m---------------------------------------------------------------------------\u001b[0m",
      "\u001b[0;31mValueError\u001b[0m                                Traceback (most recent call last)",
      "Input \u001b[0;32mIn [71]\u001b[0m, in \u001b[0;36m<cell line: 1>\u001b[0;34m()\u001b[0m\n\u001b[0;32m----> 1\u001b[0m \u001b[38;5;28;43mint\u001b[39;49m\u001b[43m(\u001b[49m\u001b[38;5;124;43m'\u001b[39;49m\u001b[38;5;124;43monbir\u001b[39;49m\u001b[38;5;124;43m'\u001b[39;49m\u001b[43m)\u001b[49m\n",
      "\u001b[0;31mValueError\u001b[0m: invalid literal for int() with base 10: 'onbir'"
     ]
    }
   ],
   "source": [
    "int('onbir')"
   ]
  },
  {
   "cell_type": "code",
   "execution_count": 73,
   "id": "dc14b26e",
   "metadata": {},
   "outputs": [
    {
     "data": {
      "text/plain": [
       "10.5"
      ]
     },
     "execution_count": 73,
     "metadata": {},
     "output_type": "execute_result"
    }
   ],
   "source": [
    "float('10.5')"
   ]
  },
  {
   "cell_type": "code",
   "execution_count": 75,
   "id": "6b6e750e",
   "metadata": {},
   "outputs": [
    {
     "name": "stdout",
     "output_type": "stream",
     "text": [
      "claruswayway\n"
     ]
    }
   ],
   "source": [
    "print('clarusway'+'way')"
   ]
  },
  {
   "cell_type": "code",
   "execution_count": 76,
   "id": "6e448ee3",
   "metadata": {},
   "outputs": [
    {
     "data": {
      "text/plain": [
       "'claruswayway'"
      ]
     },
     "execution_count": 76,
     "metadata": {},
     "output_type": "execute_result"
    }
   ],
   "source": [
    "'clarusway'+'way'\n"
   ]
  },
  {
   "cell_type": "code",
   "execution_count": 77,
   "id": "3e5bb076",
   "metadata": {},
   "outputs": [
    {
     "data": {
      "text/plain": [
       "'3311'"
      ]
     },
     "execution_count": 77,
     "metadata": {},
     "output_type": "execute_result"
    }
   ],
   "source": [
    "'33'+'11'"
   ]
  },
  {
   "cell_type": "code",
   "execution_count": 79,
   "id": "1aa3e5cc",
   "metadata": {},
   "outputs": [
    {
     "ename": "TypeError",
     "evalue": "can only concatenate str (not \"int\") to str",
     "output_type": "error",
     "traceback": [
      "\u001b[0;31m---------------------------------------------------------------------------\u001b[0m",
      "\u001b[0;31mTypeError\u001b[0m                                 Traceback (most recent call last)",
      "Input \u001b[0;32mIn [79]\u001b[0m, in \u001b[0;36m<cell line: 1>\u001b[0;34m()\u001b[0m\n\u001b[0;32m----> 1\u001b[0m \u001b[38;5;124;43m'\u001b[39;49m\u001b[38;5;124;43m33\u001b[39;49m\u001b[38;5;124;43m'\u001b[39;49m\u001b[43m \u001b[49m\u001b[38;5;241;43m+\u001b[39;49m\u001b[43m \u001b[49m\u001b[38;5;241;43m11\u001b[39;49m\n",
      "\u001b[0;31mTypeError\u001b[0m: can only concatenate str (not \"int\") to str"
     ]
    }
   ],
   "source": [
    "'33' + 11 # str ile int birlesmez toplanmaz"
   ]
  },
  {
   "cell_type": "code",
   "execution_count": 81,
   "id": "ed414978",
   "metadata": {},
   "outputs": [
    {
     "data": {
      "text/plain": [
       "78.5"
      ]
     },
     "execution_count": 81,
     "metadata": {},
     "output_type": "execute_result"
    }
   ],
   "source": [
    "pi = 3.14\n",
    "r = 5\n",
    "\n",
    "area = pi*r**2\n",
    "\n",
    "area"
   ]
  },
  {
   "cell_type": "code",
   "execution_count": 82,
   "id": "476276b4",
   "metadata": {},
   "outputs": [
    {
     "data": {
      "text/plain": [
       "5"
      ]
     },
     "execution_count": 82,
     "metadata": {},
     "output_type": "execute_result"
    }
   ],
   "source": [
    "11//2"
   ]
  },
  {
   "cell_type": "code",
   "execution_count": 83,
   "id": "34f97710",
   "metadata": {},
   "outputs": [
    {
     "data": {
      "text/plain": [
       "5"
      ]
     },
     "execution_count": 83,
     "metadata": {},
     "output_type": "execute_result"
    }
   ],
   "source": [
    "10//2"
   ]
  },
  {
   "cell_type": "code",
   "execution_count": 84,
   "id": "b923cab5",
   "metadata": {},
   "outputs": [
    {
     "name": "stdout",
     "output_type": "stream",
     "text": [
      "11-7\n"
     ]
    }
   ],
   "source": [
    "print('11-7')"
   ]
  },
  {
   "cell_type": "code",
   "execution_count": 85,
   "id": "90be4dc5",
   "metadata": {},
   "outputs": [
    {
     "ename": "TypeError",
     "evalue": "can only concatenate str (not \"int\") to str",
     "output_type": "error",
     "traceback": [
      "\u001b[0;31m---------------------------------------------------------------------------\u001b[0m",
      "\u001b[0;31mTypeError\u001b[0m                                 Traceback (most recent call last)",
      "Input \u001b[0;32mIn [85]\u001b[0m, in \u001b[0;36m<cell line: 1>\u001b[0;34m()\u001b[0m\n\u001b[0;32m----> 1\u001b[0m \u001b[38;5;28mprint\u001b[39m(\u001b[38;5;124;43m'\u001b[39;49m\u001b[38;5;124;43m4\u001b[39;49m\u001b[38;5;124;43m'\u001b[39;49m\u001b[38;5;241;43m+\u001b[39;49m\u001b[38;5;241;43m4\u001b[39;49m)\n",
      "\u001b[0;31mTypeError\u001b[0m: can only concatenate str (not \"int\") to str"
     ]
    }
   ],
   "source": [
    "print('4'+4)"
   ]
  },
  {
   "cell_type": "code",
   "execution_count": 87,
   "id": "bd3ba592",
   "metadata": {},
   "outputs": [
    {
     "name": "stdout",
     "output_type": "stream",
     "text": [
      "datatype of number_int: <class 'int'>\n",
      "datatype of number_flt: <class 'float'>\n",
      "Value of number_new: 124.23\n",
      "datatype of number_new: <class 'float'>\n"
     ]
    }
   ],
   "source": [
    "number_int = 123\n",
    "number_flt = 1.23\n",
    "\n",
    "number_new = number_int + number_flt\n",
    "\n",
    "print(\"datatype of number_int:\", type(number_int))\n",
    "print(\"datatype of number_flt:\", type(number_flt))\n",
    "\n",
    "print(\"Value of number_new:\", number_new)\n",
    "print(\"datatype of number_new:\", type(number_new))"
   ]
  },
  {
   "cell_type": "code",
   "execution_count": 90,
   "id": "bf1737df",
   "metadata": {},
   "outputs": [
    {
     "name": "stdout",
     "output_type": "stream",
     "text": [
      "datatype of number_int: <class 'int'>\n",
      "datatype of number_str: <class 'str'>\n"
     ]
    },
    {
     "ename": "TypeError",
     "evalue": "unsupported operand type(s) for +: 'int' and 'str'",
     "output_type": "error",
     "traceback": [
      "\u001b[0;31m---------------------------------------------------------------------------\u001b[0m",
      "\u001b[0;31mTypeError\u001b[0m                                 Traceback (most recent call last)",
      "Input \u001b[0;32mIn [90]\u001b[0m, in \u001b[0;36m<cell line: 8>\u001b[0;34m()\u001b[0m\n\u001b[1;32m      5\u001b[0m \u001b[38;5;28mprint\u001b[39m(\u001b[38;5;124m\"\u001b[39m\u001b[38;5;124mdatatype of number_int:\u001b[39m\u001b[38;5;124m\"\u001b[39m, \u001b[38;5;28mtype\u001b[39m(number_int))\n\u001b[1;32m      6\u001b[0m \u001b[38;5;28mprint\u001b[39m(\u001b[38;5;124m\"\u001b[39m\u001b[38;5;124mdatatype of number_str:\u001b[39m\u001b[38;5;124m\"\u001b[39m, \u001b[38;5;28mtype\u001b[39m(number_str))\n\u001b[0;32m----> 8\u001b[0m \u001b[38;5;28mprint\u001b[39m(\u001b[43mnumber_int\u001b[49m\u001b[43m \u001b[49m\u001b[38;5;241;43m+\u001b[39;49m\u001b[43m \u001b[49m\u001b[43mnumber_str\u001b[49m)\n",
      "\u001b[0;31mTypeError\u001b[0m: unsupported operand type(s) for +: 'int' and 'str'"
     ]
    }
   ],
   "source": [
    "number_int = 123\n",
    "number_str = '1123'\n",
    "\n",
    "\n",
    "print(\"datatype of number_int:\", type(number_int))\n",
    "print(\"datatype of number_str:\", type(number_str))\n",
    "\n",
    "print(number_int + number_str)"
   ]
  },
  {
   "cell_type": "code",
   "execution_count": 92,
   "id": "a8ed64c2",
   "metadata": {},
   "outputs": [
    {
     "data": {
      "text/plain": [
       "468"
      ]
     },
     "execution_count": 92,
     "metadata": {},
     "output_type": "execute_result"
    }
   ],
   "source": [
    "x = int(\"456\")\n",
    "x+12"
   ]
  },
  {
   "cell_type": "code",
   "execution_count": 93,
   "id": "1595bd48",
   "metadata": {},
   "outputs": [
    {
     "name": "stdout",
     "output_type": "stream",
     "text": [
      "51\n",
      "51\n",
      "51\n"
     ]
    }
   ],
   "source": [
    "print(int(\"5\" + \"1\"))\n",
    "print(str(\"5\" + \"1\"))\n",
    "print(\"5\" + \"1\")"
   ]
  },
  {
   "cell_type": "code",
   "execution_count": 94,
   "id": "a8d8f5b4",
   "metadata": {},
   "outputs": [
    {
     "name": "stdout",
     "output_type": "stream",
     "text": [
      "51\n",
      "51\n"
     ]
    }
   ],
   "source": [
    "int(\"5\" + \"1\")\n",
    "print(str(\"5\" + \"1\"))\n",
    "print(\"5\" + \"1\")"
   ]
  },
  {
   "cell_type": "code",
   "execution_count": 95,
   "id": "6227730e",
   "metadata": {},
   "outputs": [
    {
     "ename": "SyntaxError",
     "evalue": "invalid syntax (1740794466.py, line 1)",
     "output_type": "error",
     "traceback": [
      "\u001b[0;36m  Input \u001b[0;32mIn [95]\u001b[0;36m\u001b[0m\n\u001b[0;31m    print('%.5s' % x) if x = \"HelloWorld!\"\u001b[0m\n\u001b[0m                           ^\u001b[0m\n\u001b[0;31mSyntaxError\u001b[0m\u001b[0;31m:\u001b[0m invalid syntax\n"
     ]
    }
   ],
   "source": [
    "print('%.5s' % x) if x = \"HelloWorld!\""
   ]
  },
  {
   "cell_type": "code",
   "execution_count": 96,
   "id": "484816c0",
   "metadata": {},
   "outputs": [
    {
     "name": "stdout",
     "output_type": "stream",
     "text": [
      "enter a number10\n"
     ]
    },
    {
     "data": {
      "text/plain": [
       "'10'"
      ]
     },
     "execution_count": 96,
     "metadata": {},
     "output_type": "execute_result"
    }
   ],
   "source": [
    "    input(\"enter a number\")"
   ]
  },
  {
   "cell_type": "code",
   "execution_count": 97,
   "id": "63bf5b5e",
   "metadata": {},
   "outputs": [
    {
     "name": "stdout",
     "output_type": "stream",
     "text": [
      "enter a number: 32\n"
     ]
    },
    {
     "data": {
      "text/plain": [
       "'32'"
      ]
     },
     "execution_count": 97,
     "metadata": {},
     "output_type": "execute_result"
    }
   ],
   "source": [
    "input(\"enter a number: \")"
   ]
  },
  {
   "cell_type": "code",
   "execution_count": 99,
   "id": "67726ce4",
   "metadata": {},
   "outputs": [
    {
     "name": "stdout",
     "output_type": "stream",
     "text": [
      "enter a number: 64\n"
     ]
    },
    {
     "data": {
      "text/plain": [
       "str"
      ]
     },
     "execution_count": 99,
     "metadata": {},
     "output_type": "execute_result"
    }
   ],
   "source": [
    "type(input(\"enter a number: \"))"
   ]
  },
  {
   "cell_type": "code",
   "execution_count": 100,
   "id": "43fc2bd9",
   "metadata": {},
   "outputs": [
    {
     "name": "stdout",
     "output_type": "stream",
     "text": [
      "enter a messageerd\n"
     ]
    },
    {
     "data": {
      "text/plain": [
       "'erd'"
      ]
     },
     "execution_count": 100,
     "metadata": {},
     "output_type": "execute_result"
    }
   ],
   "source": [
    "input(\"enter a message\")"
   ]
  },
  {
   "cell_type": "code",
   "execution_count": 101,
   "id": "4575221d",
   "metadata": {},
   "outputs": [
    {
     "name": "stdout",
     "output_type": "stream",
     "text": [
      "enter a messagepo\n"
     ]
    },
    {
     "data": {
      "text/plain": [
       "str"
      ]
     },
     "execution_count": 101,
     "metadata": {},
     "output_type": "execute_result"
    }
   ],
   "source": [
    "type(input(\"enter a message\"))"
   ]
  },
  {
   "cell_type": "code",
   "execution_count": 103,
   "id": "92bca2ce",
   "metadata": {},
   "outputs": [
    {
     "name": "stdout",
     "output_type": "stream",
     "text": [
      "enter a number34\n"
     ]
    },
    {
     "data": {
      "text/plain": [
       "str"
      ]
     },
     "execution_count": 103,
     "metadata": {},
     "output_type": "execute_result"
    }
   ],
   "source": [
    "num = input(\"enter a number\")\n",
    "type(num)"
   ]
  },
  {
   "cell_type": "code",
   "execution_count": null,
   "id": "5d5e5ba7",
   "metadata": {},
   "outputs": [],
   "source": []
  }
 ],
 "metadata": {
  "kernelspec": {
   "display_name": "Python 3 (ipykernel)",
   "language": "python",
   "name": "python3"
  },
  "language_info": {
   "codemirror_mode": {
    "name": "ipython",
    "version": 3
   },
   "file_extension": ".py",
   "mimetype": "text/x-python",
   "name": "python",
   "nbconvert_exporter": "python",
   "pygments_lexer": "ipython3",
   "version": "3.9.12"
  }
 },
 "nbformat": 4,
 "nbformat_minor": 5
}
