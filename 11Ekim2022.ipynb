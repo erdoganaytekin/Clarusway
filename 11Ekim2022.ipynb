       {
 "cells": [
  {
   "cell_type": "code",
   "execution_count": 1,
   "id": "73ec1af1",
   "metadata": {},
   "outputs": [],
   "source": [
    "a,b,c = 10, 20, 30"
   ]
  },
  {
   "cell_type": "code",
   "execution_count": 2,
   "id": "7396fd89",
   "metadata": {},
   "outputs": [
    {
     "ename": "SyntaxError",
     "evalue": "invalid syntax (1203802615.py, line 1)",
     "output_type": "error",
     "traceback": [
      "\u001b[0;36m  Input \u001b[0;32mIn [2]\u001b[0;36m\u001b[0m\n\u001b[0;31m    a b c = 10 30 40\u001b[0m\n\u001b[0m      ^\u001b[0m\n\u001b[0;31mSyntaxError\u001b[0m\u001b[0;31m:\u001b[0m invalid syntax\n"
     ]
    }
   ],
   "source": [
    "a b c = 10 30 40"
   ]
  },
  {
   "cell_type": "code",
   "execution_count": 5,
   "id": "6bef4033",
   "metadata": {},
   "outputs": [
    {
     "data": {
      "text/plain": [
       "True"
      ]
     },
     "execution_count": 5,
     "metadata": {},
     "output_type": "execute_result"
    }
   ],
   "source": [
    "5!= 6"
   ]
  },
  {
   "cell_type": "code",
   "execution_count": 13,
   "id": "0bc5e1fd",
   "metadata": {},
   "outputs": [
    {
     "name": "stdout",
     "output_type": "stream",
     "text": [
      "word: Erdogan\n",
      "Seperator--\n",
      "repetetion5\n",
      "Erdogan--Erdogan--Erdogan--Erdogan--Erdogan--\n"
     ]
    }
   ],
   "source": [
    "word = input(\"word: \")\n",
    "seperator = input(\"Seperator\")\n",
    "repetetion = int(input(\"repetetion\"))\n",
    "a = (word + seperator) * (repetetion)\n",
    "print(a)"
   ]
  },
  {
   "cell_type": "code",
   "execution_count": null,
   "id": "8a3e94d9",
   "metadata": {},
   "outputs": [],
   "source": []
  },
  {
   "cell_type": "code",
   "execution_count": 25,
   "id": "0b8cdd17",
   "metadata": {},
   "outputs": [
    {
     "ename": "SyntaxError",
     "evalue": "invalid syntax (1257830348.py, line 8)",
     "output_type": "error",
     "traceback": [
      "\u001b[0;36m  Input \u001b[0;32mIn [25]\u001b[0;36m\u001b[0m\n\u001b[0;31m    if result == x and y\u001b[0m\n\u001b[0m                        ^\u001b[0m\n\u001b[0;31mSyntaxError\u001b[0m\u001b[0;31m:\u001b[0m invalid syntax\n"
     ]
    }
   ],
   "source": [
    "# The word will always be a string consisting of only letters from a to z.\n",
    "# Write a program which returns True if it's a comfortable word or False otherwise.\n",
    "\n",
    "x = \"q, w, e, r, t, a, s, d, f, g, z, x, c, v, b\"\n",
    "y = \"y, u, i, o, p, h, j, k, l, n, m\"\n",
    "\n",
    "result = input(\"Enter a word: \")\n",
    "if result == x and y\n",
    "    True\n",
    "else: \n",
    "    False\n",
    "        "
   ]
  },
  {
   "cell_type": "code",
   "execution_count": 16,
   "id": "2713ba5e",
   "metadata": {},
   "outputs": [
    {
     "name": "stdout",
     "output_type": "stream",
     "text": [
      "Enter: qy\n",
      "Correct\n"
     ]
    }
   ],
   "source": [
    "import string\n",
    "def validCharacters(text):\n",
    "    correct = string.ascii_letters + string.digits\n",
    "    for character in text:\n",
    "         if character not in correct:\n",
    "              return False\n",
    "\n",
    "    return True\n",
    "\n",
    "text = input(\"Enter: \")\n",
    "if validCharacters(text):\n",
    "     print(\"Correct\")\n",
    "else:\n",
    "     print(\"Incorrect\")"
   ]
  },
  {
   "cell_type": "code",
   "execution_count": 40,
   "id": "57e7a703",
   "metadata": {},
   "outputs": [
    {
     "name": "stdout",
     "output_type": "stream",
     "text": [
      "Enter a word: qy\n",
      "False\n"
     ]
    }
   ],
   "source": [
    "x = ['q', 'w', 'e', 'r', 't', 'a', 's', 'd', 'f', 'g', 'z', 'x', 'c', 'v', 'b']\n",
    "y = ['y', 'u', 'i', 'o', 'p', 'h', 'j', 'k', 'l', 'n', 'm']\n",
    "\n",
    "result = input(\"Enter a word: \")\n",
    "if result == x and y:\n",
    " print(True)\n",
    "else: \n",
    "   print(False)"
   ]
  },
  {
   "cell_type": "code",
   "execution_count": 5,
   "id": "99a8b423",
   "metadata": {},
   "outputs": [
    {
     "name": "stdout",
     "output_type": "stream",
     "text": [
      "Enter a word: \n",
      "False\n"
     ]
    }
   ],
   "source": [
    "my_set = set(\"qwertasdfgzxcvb\")\n",
    "# y, u, i, o, p, h, j, k, l, n, m\n",
    "\n",
    "# check if 'a' is present\n",
    "# Output: True\n",
    "\n",
    "result = input(\"Enter a word: \")\n",
    "print(result in my_set)\n",
    "\n",
    "# check if 'p' is present\n",
    "# Output: False\n",
    "# print('p' not in my_set)"
   ]
  },
  {
   "cell_type": "code",
   "execution_count": 58,
   "id": "f6dcb944",
   "metadata": {},
   "outputs": [
    {
     "name": "stdout",
     "output_type": "stream",
     "text": [
      "enter:qw\n"
     ]
    },
    {
     "ename": "IndexError",
     "evalue": "Replacement index 1 out of range for positional args tuple",
     "output_type": "error",
     "traceback": [
      "\u001b[0;31m---------------------------------------------------------------------------\u001b[0m",
      "\u001b[0;31mIndexError\u001b[0m                                Traceback (most recent call last)",
      "Input \u001b[0;32mIn [58]\u001b[0m, in \u001b[0;36m<cell line: 7>\u001b[0;34m()\u001b[0m\n\u001b[1;32m     10\u001b[0m     \u001b[38;5;28;01mif\u001b[39;00m b \u001b[38;5;129;01min\u001b[39;00m sol_el:\n\u001b[1;32m     11\u001b[0m         c \u001b[38;5;241m+\u001b[39m\u001b[38;5;241m=\u001b[39m\u001b[38;5;241m1\u001b[39m\n\u001b[0;32m---> 12\u001b[0m \u001b[38;5;28mprint\u001b[39m(\u001b[38;5;124;43m\"\u001b[39;49m\u001b[38;5;124;43mGeçen Sesli Harf \u001b[39;49m\u001b[38;5;132;43;01m{}\u001b[39;49;00m\u001b[38;5;124;43m >>>> \u001b[39;49m\u001b[38;5;132;43;01m{}\u001b[39;49;00m\u001b[38;5;124;43m\"\u001b[39;49m\u001b[38;5;241;43m.\u001b[39;49m\u001b[43mformat\u001b[49m\u001b[43m(\u001b[49m\u001b[38;5;124;43m'\u001b[39;49m\u001b[38;5;124;43mqwertasdfgzxcvb\u001b[39;49m\u001b[38;5;124;43m'\u001b[39;49m\u001b[43m)\u001b[49m)\n",
      "\u001b[0;31mIndexError\u001b[0m: Replacement index 1 out of range for positional args tuple"
     ]
    }
   ],
   "source": [
    "sol_el= \"qwertasdfgzxcvb\"\n",
    "\n",
    "kelime = [input('enter:')]\n",
    "\n",
    "c = 0\n",
    "\n",
    "for i in kelime:\n",
    "    c = 0\n",
    "    for b in i:\n",
    "        if b in sol_el:\n",
    "            c +=1\n",
    "    print(\"Geçen Sesli Harf {} >>>> {}\".format('qwertasdfgzxcvb'))"
   ]
  },
  {
   "cell_type": "code",
   "execution_count": 63,
   "id": "7d23ca82",
   "metadata": {},
   "outputs": [
    {
     "name": "stdout",
     "output_type": "stream",
     "text": [
      "Bir metin giriniz:qw\n",
      "----------------------------------\n",
      "Bu metinde toplam  0  adet  ('q', 'w', 'e', 'r', 't', 'a', 's', 'd', 'f', 'g', 'z', 'x', 'c', 'v', 'b')  vardır\n"
     ]
    }
   ],
   "source": [
    "ifade=input(\"Bir metin giriniz:\")\n",
    "aranan= ('q', 'w', 'e', 'r', 't', 'a', 's', 'd', 'f', 'g', 'z', 'x', 'c', 'v', 'b')\n",
    "toplam=0\n",
    "for bul in ifade:\n",
    "    if bul==aranan:\n",
    "        toplam=toplam+1\n",
    "print(\"----------------------------------\")        \n",
    "print(\"Bu metinde toplam \",toplam,\" adet \", aranan,\" vardır\")"
   ]
  },
  {
   "cell_type": "code",
   "execution_count": 2,
   "id": "baa94d03",
   "metadata": {},
   "outputs": [
    {
     "name": "stdout",
     "output_type": "stream",
     "text": [
      "False\n",
      "False\n"
     ]
    }
   ],
   "source": [
    "my_set = set(\"apple\")\n",
    "\n",
    "# check if 'a' is present\n",
    "# Output: True\n",
    "print('ap' in my_set)\n",
    "\n",
    "# check if 'p' is present\n",
    "# Output: False\n",
    "print('p' not in my_set)"
   ]
  },
  {
   "cell_type": "code",
   "execution_count": null,
   "id": "ed1a614f",
   "metadata": {},
   "outputs": [],
   "source": []
  }
 ],
 "metadata": {
  "kernelspec": {
   "display_name": "Python 3 (ipykernel)",
   "language": "python",
   "name": "python3"
  },
  "language_info": {
   "codemirror_mode": {
    "name": "ipython",
    "version": 3
   },
   "file_extension": ".py",
   "mimetype": "text/x-python",
   "name": "python",
   "nbconvert_exporter": "python",
   "pygments_lexer": "ipython3",
   "version": "3.9.12"
  }
 },
 "nbformat": 4,
 "nbformat_minor": 5
}
