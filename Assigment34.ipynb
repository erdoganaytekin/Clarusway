{
 "cells": [
  {
   "cell_type": "code",
   "execution_count": 4,
   "id": "9ed7a35a",
   "metadata": {},
   "outputs": [
    {
     "name": "stdout",
     "output_type": "stream",
     "text": [
      "Celsius: 10\n",
      "10.0 Celsius= 50.0 Fahrenheit\n"
     ]
    }
   ],
   "source": [
    "Celsius = float(input('Celsius: '))\n",
    "\n",
    "result = Celsius*1.8 +32\n",
    "print(Celsius, 'Celsius=', result, 'Fahrenheit')"
   ]
  },
  {
   "cell_type": "code",
   "execution_count": 5,
   "id": "890d8689",
   "metadata": {},
   "outputs": [
    {
     "name": "stdout",
     "output_type": "stream",
     "text": [
      "Kilometers: 10\n",
      "10.0 Kilometers= 16.0934 Miles\n"
     ]
    }
   ],
   "source": [
    "Kilometers = float(input('Kilometers: '))\n",
    "\n",
    "result = Kilometers*1.60934\n",
    "print(Kilometers, 'Kilometers=', result, 'Miles')"
   ]
  },
  {
   "cell_type": "code",
   "execution_count": null,
   "id": "d4b22beb",
   "metadata": {},
   "outputs": [],
   "source": []
  }
 ],
 "metadata": {
  "kernelspec": {
   "display_name": "Python 3 (ipykernel)",
   "language": "python",
   "name": "python3"
  },
  "language_info": {
   "codemirror_mode": {
    "name": "ipython",
    "version": 3
   },
   "file_extension": ".py",
   "mimetype": "text/x-python",
   "name": "python",
   "nbconvert_exporter": "python",
   "pygments_lexer": "ipython3",
   "version": "3.9.12"
  }
 },
 "nbformat": 4,
 "nbformat_minor": 5
}
